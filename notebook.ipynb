{
 "cells": [
  {
   "cell_type": "markdown",
   "metadata": {
    "id": "B_vggiUL7ofZ"
   },
   "source": [
    "# Goal: Classify projects into different main categories\n",
    "\n",
    "### Target: main_category\n",
    "### Features: \n",
    "- goal\n",
    "- time information (launch date, deadline)\n",
    "- maybe name (we have to check if there's any valuable information that might come from the name of the project) "
   ]
  },
  {
   "cell_type": "markdown",
   "metadata": {},
   "source": [
    "### Business Understanding\n",
    "\n",
    "Kickstarter campaigns can make ideas into reality. We want to explore if we can categorize a kickstart project into different classes by using its goals or name.\n",
    "In that way, kickstarter would be able to categorize projects even if the creators forget to label them."
   ]
  },
  {
   "cell_type": "code",
   "execution_count": 1,
   "metadata": {
    "colab": {
     "base_uri": "https://localhost:8080/"
    },
    "id": "ghD039nvWL5J",
    "outputId": "3cd1d980-0089-441c-b254-7adbf0cac7c4"
   },
   "outputs": [
    {
     "name": "stdout",
     "output_type": "stream",
     "text": [
      "Collecting imbalanced-learn\n",
      "\u001b[?25l  Downloading https://files.pythonhosted.org/packages/c8/81/8db4d87b03b998fda7c6f835d807c9ae4e3b141f978597b8d7f31600be15/imbalanced_learn-0.7.0-py3-none-any.whl (167kB)\n",
      "\u001b[K     |████████████████████████████████| 174kB 9.3MB/s eta 0:00:01\n",
      "\u001b[?25hRequirement already satisfied, skipping upgrade: scipy>=0.19.1 in /usr/local/lib/python3.6/dist-packages (from imbalanced-learn) (1.4.1)\n",
      "Collecting scikit-learn>=0.23\n",
      "\u001b[?25l  Downloading https://files.pythonhosted.org/packages/30/aa/db462d385c56905b731403885454188683f63c86ea68900f6f7e7558b5fa/scikit_learn-0.24.0-cp36-cp36m-manylinux2010_x86_64.whl (22.2MB)\n",
      "\u001b[K     |████████████████████████████████| 22.2MB 1.3MB/s \n",
      "\u001b[?25hRequirement already satisfied, skipping upgrade: joblib>=0.11 in /usr/local/lib/python3.6/dist-packages (from imbalanced-learn) (1.0.0)\n",
      "Requirement already satisfied, skipping upgrade: numpy>=1.13.3 in /usr/local/lib/python3.6/dist-packages (from imbalanced-learn) (1.19.4)\n",
      "Collecting threadpoolctl>=2.0.0\n",
      "  Downloading https://files.pythonhosted.org/packages/f7/12/ec3f2e203afa394a149911729357aa48affc59c20e2c1c8297a60f33f133/threadpoolctl-2.1.0-py3-none-any.whl\n",
      "Installing collected packages: threadpoolctl, scikit-learn, imbalanced-learn\n",
      "  Found existing installation: scikit-learn 0.22.2.post1\n",
      "    Uninstalling scikit-learn-0.22.2.post1:\n",
      "      Successfully uninstalled scikit-learn-0.22.2.post1\n",
      "  Found existing installation: imbalanced-learn 0.4.3\n",
      "    Uninstalling imbalanced-learn-0.4.3:\n",
      "      Successfully uninstalled imbalanced-learn-0.4.3\n",
      "Successfully installed imbalanced-learn-0.7.0 scikit-learn-0.24.0 threadpoolctl-2.1.0\n"
     ]
    }
   ],
   "source": [
    "!pip install -U imbalanced-learn\n"
   ]
  },
  {
   "cell_type": "markdown",
   "metadata": {
    "id": "03BzOAnQWZlZ"
   },
   "source": [
    "We start by importing numpy and pandas, two essential libraries for working with data in python"
   ]
  },
  {
   "cell_type": "code",
   "execution_count": 1,
   "metadata": {
    "id": "S2O4O3olWloO"
   },
   "outputs": [],
   "source": [
    "import pandas as pd\n",
    "import numpy as np\n"
   ]
  },
  {
   "cell_type": "code",
   "execution_count": 2,
   "metadata": {
    "id": "DMc1RfrT6zp9"
   },
   "outputs": [],
   "source": [
    "import seaborn as sns\n",
    "import matplotlib.pyplot as plt\n",
    "from sklearn.model_selection import train_test_split, StratifiedShuffleSplit\n",
    "from sklearn.preprocessing import StandardScaler,LabelEncoder,OneHotEncoder\n",
    "from sklearn.linear_model import LogisticRegression\n",
    "from sklearn import metrics\n",
    "from sklearn.compose import ColumnTransformer\n",
    "from sklearn.feature_extraction.text import TfidfVectorizer\n"
   ]
  },
  {
   "cell_type": "code",
   "execution_count": 3,
   "metadata": {
    "colab": {
     "base_uri": "https://localhost:8080/"
    },
    "id": "nyUzh1C665FP",
    "outputId": "c0409992-44e1-4e6a-8110-931fcf119023"
   },
   "outputs": [
    {
     "name": "stderr",
     "output_type": "stream",
     "text": [
      "/Users/sgdantas/miniconda/envs/multi/lib/python3.7/site-packages/IPython/core/interactiveshell.py:3147: DtypeWarning: Columns (13,14,15) have mixed types.Specify dtype option on import or set low_memory=False.\n",
      "  interactivity=interactivity, compiler=compiler, result=result)\n"
     ]
    }
   ],
   "source": [
    "# reading the data\n",
    "df_raw = pd.read_csv('ks-projects-201612.csv',encoding='latin1')\n",
    "\n",
    "# setting the seed for reproducibility\n",
    "np.random.seed(42)"
   ]
  },
  {
   "cell_type": "code",
   "execution_count": null,
   "metadata": {
    "id": "Cj0Kr0CdW87H"
   },
   "outputs": [],
   "source": []
  },
  {
   "cell_type": "markdown",
   "metadata": {
    "id": "BS_4N9lP8yDy"
   },
   "source": [
    "### Exploring the data"
   ]
  },
  {
   "cell_type": "code",
   "execution_count": 6,
   "metadata": {
    "colab": {
     "base_uri": "https://localhost:8080/",
     "height": 462
    },
    "id": "jNGlAOIY68vi",
    "outputId": "972565a7-1f4e-414b-b533-018af5c3193f"
   },
   "outputs": [
    {
     "data": {
      "text/html": [
       "<div>\n",
       "<style scoped>\n",
       "    .dataframe tbody tr th:only-of-type {\n",
       "        vertical-align: middle;\n",
       "    }\n",
       "\n",
       "    .dataframe tbody tr th {\n",
       "        vertical-align: top;\n",
       "    }\n",
       "\n",
       "    .dataframe thead th {\n",
       "        text-align: right;\n",
       "    }\n",
       "</style>\n",
       "<table border=\"1\" class=\"dataframe\">\n",
       "  <thead>\n",
       "    <tr style=\"text-align: right;\">\n",
       "      <th></th>\n",
       "      <th>ID</th>\n",
       "      <th>name</th>\n",
       "      <th>category</th>\n",
       "      <th>main_category</th>\n",
       "      <th>currency</th>\n",
       "      <th>deadline</th>\n",
       "      <th>goal</th>\n",
       "      <th>launched</th>\n",
       "      <th>pledged</th>\n",
       "      <th>state</th>\n",
       "      <th>backers</th>\n",
       "      <th>country</th>\n",
       "      <th>usd pledged</th>\n",
       "      <th>Unnamed: 13</th>\n",
       "      <th>Unnamed: 14</th>\n",
       "      <th>Unnamed: 15</th>\n",
       "      <th>Unnamed: 16</th>\n",
       "    </tr>\n",
       "  </thead>\n",
       "  <tbody>\n",
       "    <tr>\n",
       "      <th>0</th>\n",
       "      <td>1000002330</td>\n",
       "      <td>The Songs of Adelaide &amp; Abullah</td>\n",
       "      <td>Poetry</td>\n",
       "      <td>Publishing</td>\n",
       "      <td>GBP</td>\n",
       "      <td>2015-10-09 11:36:00</td>\n",
       "      <td>1000</td>\n",
       "      <td>2015-08-11 12:12:28</td>\n",
       "      <td>0</td>\n",
       "      <td>failed</td>\n",
       "      <td>0</td>\n",
       "      <td>GB</td>\n",
       "      <td>0</td>\n",
       "      <td>NaN</td>\n",
       "      <td>NaN</td>\n",
       "      <td>NaN</td>\n",
       "      <td>NaN</td>\n",
       "    </tr>\n",
       "    <tr>\n",
       "      <th>1</th>\n",
       "      <td>1000004038</td>\n",
       "      <td>Where is Hank?</td>\n",
       "      <td>Narrative Film</td>\n",
       "      <td>Film &amp; Video</td>\n",
       "      <td>USD</td>\n",
       "      <td>2013-02-26 00:20:50</td>\n",
       "      <td>45000</td>\n",
       "      <td>2013-01-12 00:20:50</td>\n",
       "      <td>220</td>\n",
       "      <td>failed</td>\n",
       "      <td>3</td>\n",
       "      <td>US</td>\n",
       "      <td>220</td>\n",
       "      <td>NaN</td>\n",
       "      <td>NaN</td>\n",
       "      <td>NaN</td>\n",
       "      <td>NaN</td>\n",
       "    </tr>\n",
       "    <tr>\n",
       "      <th>2</th>\n",
       "      <td>1000007540</td>\n",
       "      <td>ToshiCapital Rekordz Needs Help to Complete Album</td>\n",
       "      <td>Music</td>\n",
       "      <td>Music</td>\n",
       "      <td>USD</td>\n",
       "      <td>2012-04-16 04:24:11</td>\n",
       "      <td>5000</td>\n",
       "      <td>2012-03-17 03:24:11</td>\n",
       "      <td>1</td>\n",
       "      <td>failed</td>\n",
       "      <td>1</td>\n",
       "      <td>US</td>\n",
       "      <td>1</td>\n",
       "      <td>NaN</td>\n",
       "      <td>NaN</td>\n",
       "      <td>NaN</td>\n",
       "      <td>NaN</td>\n",
       "    </tr>\n",
       "    <tr>\n",
       "      <th>3</th>\n",
       "      <td>1000011046</td>\n",
       "      <td>Community Film Project: The Art of Neighborhoo...</td>\n",
       "      <td>Film &amp; Video</td>\n",
       "      <td>Film &amp; Video</td>\n",
       "      <td>USD</td>\n",
       "      <td>2015-08-29 01:00:00</td>\n",
       "      <td>19500</td>\n",
       "      <td>2015-07-04 08:35:03</td>\n",
       "      <td>1283</td>\n",
       "      <td>canceled</td>\n",
       "      <td>14</td>\n",
       "      <td>US</td>\n",
       "      <td>1283</td>\n",
       "      <td>NaN</td>\n",
       "      <td>NaN</td>\n",
       "      <td>NaN</td>\n",
       "      <td>NaN</td>\n",
       "    </tr>\n",
       "    <tr>\n",
       "      <th>4</th>\n",
       "      <td>1000014025</td>\n",
       "      <td>Monarch Espresso Bar</td>\n",
       "      <td>Restaurants</td>\n",
       "      <td>Food</td>\n",
       "      <td>USD</td>\n",
       "      <td>2016-04-01 13:38:27</td>\n",
       "      <td>50000</td>\n",
       "      <td>2016-02-26 13:38:27</td>\n",
       "      <td>52375</td>\n",
       "      <td>successful</td>\n",
       "      <td>224</td>\n",
       "      <td>US</td>\n",
       "      <td>52375</td>\n",
       "      <td>NaN</td>\n",
       "      <td>NaN</td>\n",
       "      <td>NaN</td>\n",
       "      <td>NaN</td>\n",
       "    </tr>\n",
       "  </tbody>\n",
       "</table>\n",
       "</div>"
      ],
      "text/plain": [
       "          ID   ... Unnamed: 16\n",
       "0  1000002330  ...         NaN\n",
       "1  1000004038  ...         NaN\n",
       "2  1000007540  ...         NaN\n",
       "3  1000011046  ...         NaN\n",
       "4  1000014025  ...         NaN\n",
       "\n",
       "[5 rows x 17 columns]"
      ]
     },
     "execution_count": 6,
     "metadata": {
      "tags": []
     },
     "output_type": "execute_result"
    }
   ],
   "source": [
    "df_raw.head()"
   ]
  },
  {
   "cell_type": "code",
   "execution_count": 7,
   "metadata": {
    "colab": {
     "base_uri": "https://localhost:8080/"
    },
    "id": "SlWyR0jP69mB",
    "outputId": "4821d2f4-fbc0-4c7f-faed-d2dcbb4fe633"
   },
   "outputs": [
    {
     "data": {
      "text/plain": [
       "(323750, 17)"
      ]
     },
     "execution_count": 7,
     "metadata": {
      "tags": []
     },
     "output_type": "execute_result"
    }
   ],
   "source": [
    "df_raw.shape"
   ]
  },
  {
   "cell_type": "markdown",
   "metadata": {
    "id": "D6ElBjDVYRjJ"
   },
   "source": [
    "Notice that there's a trailing space in the columns' names, so we need to fix this first"
   ]
  },
  {
   "cell_type": "code",
   "execution_count": 14,
   "metadata": {
    "colab": {
     "base_uri": "https://localhost:8080/"
    },
    "id": "keVw391LXuAg",
    "outputId": "3936564b-8ef9-449e-a062-65adf97aa2cc"
   },
   "outputs": [
    {
     "data": {
      "text/plain": [
       "Index(['ID ', 'name ', 'category ', 'main_category ', 'currency ', 'deadline ',\n",
       "       'goal ', 'launched ', 'pledged ', 'state ', 'backers ', 'country ',\n",
       "       'usd pledged ', 'Unnamed: 13', 'Unnamed: 14', 'Unnamed: 15',\n",
       "       'Unnamed: 16'],\n",
       "      dtype='object')"
      ]
     },
     "execution_count": 14,
     "metadata": {
      "tags": []
     },
     "output_type": "execute_result"
    }
   ],
   "source": [
    "df_raw.columns"
   ]
  },
  {
   "cell_type": "code",
   "execution_count": 4,
   "metadata": {
    "id": "sSPOa8OzYbMc"
   },
   "outputs": [],
   "source": [
    "new_columns = [name.replace(' ','') for name in df_raw.columns]"
   ]
  },
  {
   "cell_type": "code",
   "execution_count": 5,
   "metadata": {
    "colab": {
     "base_uri": "https://localhost:8080/"
    },
    "id": "1Xiw5eJlYmG-",
    "outputId": "96c71697-c927-459e-c7d5-c84a62939288"
   },
   "outputs": [
    {
     "data": {
      "text/plain": [
       "['ID',\n",
       " 'name',\n",
       " 'category',\n",
       " 'main_category',\n",
       " 'currency',\n",
       " 'deadline',\n",
       " 'goal',\n",
       " 'launched',\n",
       " 'pledged',\n",
       " 'state',\n",
       " 'backers',\n",
       " 'country',\n",
       " 'usdpledged',\n",
       " 'Unnamed:13',\n",
       " 'Unnamed:14',\n",
       " 'Unnamed:15',\n",
       " 'Unnamed:16']"
      ]
     },
     "execution_count": 5,
     "metadata": {},
     "output_type": "execute_result"
    }
   ],
   "source": [
    "new_columns"
   ]
  },
  {
   "cell_type": "code",
   "execution_count": 6,
   "metadata": {
    "id": "EbRWr5GvYuz4"
   },
   "outputs": [],
   "source": [
    "df_raw.columns = new_columns"
   ]
  },
  {
   "cell_type": "markdown",
   "metadata": {
    "id": "dTLeKk2VXMtq"
   },
   "source": [
    "We are interested in answering the following question: can we classify a project into different categories based on their goal or using their name?"
   ]
  },
  {
   "cell_type": "markdown",
   "metadata": {
    "id": "7DaT_NqUXbVH"
   },
   "source": [
    "In order to do that, we will work with just a few columns"
   ]
  },
  {
   "cell_type": "code",
   "execution_count": 7,
   "metadata": {
    "colab": {
     "base_uri": "https://localhost:8080/"
    },
    "id": "7EndSoQKY1Rt",
    "outputId": "1bd33b87-c1a9-483c-fd19-fa6782d3ec7e"
   },
   "outputs": [
    {
     "data": {
      "text/plain": [
       "['ID',\n",
       " 'name',\n",
       " 'category',\n",
       " 'main_category',\n",
       " 'currency',\n",
       " 'deadline',\n",
       " 'goal',\n",
       " 'launched',\n",
       " 'pledged',\n",
       " 'state',\n",
       " 'backers',\n",
       " 'country',\n",
       " 'usdpledged',\n",
       " 'Unnamed:13',\n",
       " 'Unnamed:14',\n",
       " 'Unnamed:15',\n",
       " 'Unnamed:16']"
      ]
     },
     "execution_count": 7,
     "metadata": {},
     "output_type": "execute_result"
    }
   ],
   "source": [
    "list(df_raw)"
   ]
  },
  {
   "cell_type": "code",
   "execution_count": 8,
   "metadata": {
    "id": "ONPFjA1BXbCG"
   },
   "outputs": [],
   "source": [
    "df_raw = df_raw.loc[:,['name',\n",
    " 'main_category',\n",
    " 'deadline',\n",
    " 'goal',\n",
    " 'launched',]]"
   ]
  },
  {
   "cell_type": "code",
   "execution_count": 9,
   "metadata": {
    "colab": {
     "base_uri": "https://localhost:8080/"
    },
    "id": "3K6kFIiT_OMu",
    "outputId": "0edc1caf-e6c9-4f79-a6b3-12800d373027"
   },
   "outputs": [
    {
     "data": {
      "text/plain": [
       "name             4\n",
       "main_category    0\n",
       "deadline         0\n",
       "goal             0\n",
       "launched         0\n",
       "dtype: int64"
      ]
     },
     "execution_count": 9,
     "metadata": {},
     "output_type": "execute_result"
    }
   ],
   "source": [
    "df_raw.isnull().sum()"
   ]
  },
  {
   "cell_type": "markdown",
   "metadata": {
    "id": "LTgeBmyR_dNO"
   },
   "source": [
    "There are 4 projects with missing names, let's see if we can drop them"
   ]
  },
  {
   "cell_type": "code",
   "execution_count": 10,
   "metadata": {
    "colab": {
     "base_uri": "https://localhost:8080/",
     "height": 173
    },
    "id": "PQ-Pl0Jl_jnn",
    "outputId": "eb463663-95bf-4932-c5f9-d627db7856cc"
   },
   "outputs": [
    {
     "data": {
      "text/html": [
       "<div>\n",
       "<style scoped>\n",
       "    .dataframe tbody tr th:only-of-type {\n",
       "        vertical-align: middle;\n",
       "    }\n",
       "\n",
       "    .dataframe tbody tr th {\n",
       "        vertical-align: top;\n",
       "    }\n",
       "\n",
       "    .dataframe thead th {\n",
       "        text-align: right;\n",
       "    }\n",
       "</style>\n",
       "<table border=\"1\" class=\"dataframe\">\n",
       "  <thead>\n",
       "    <tr style=\"text-align: right;\">\n",
       "      <th></th>\n",
       "      <th>name</th>\n",
       "      <th>main_category</th>\n",
       "      <th>deadline</th>\n",
       "      <th>goal</th>\n",
       "      <th>launched</th>\n",
       "    </tr>\n",
       "  </thead>\n",
       "  <tbody>\n",
       "    <tr>\n",
       "      <th>142830</th>\n",
       "      <td>NaN</td>\n",
       "      <td>Film &amp; Video</td>\n",
       "      <td>2012-02-29 15:04:00</td>\n",
       "      <td>200000</td>\n",
       "      <td>2012-01-01 12:35:31</td>\n",
       "    </tr>\n",
       "    <tr>\n",
       "      <th>262901</th>\n",
       "      <td>NaN</td>\n",
       "      <td>Games</td>\n",
       "      <td>2013-01-06 23:00:00</td>\n",
       "      <td>2000</td>\n",
       "      <td>2012-12-19 23:57:48</td>\n",
       "    </tr>\n",
       "    <tr>\n",
       "      <th>265251</th>\n",
       "      <td>NaN</td>\n",
       "      <td>Design</td>\n",
       "      <td>2016-07-18 05:01:47</td>\n",
       "      <td>2500</td>\n",
       "      <td>2016-06-18 05:01:47</td>\n",
       "    </tr>\n",
       "    <tr>\n",
       "      <th>289847</th>\n",
       "      <td>NaN</td>\n",
       "      <td>Art</td>\n",
       "      <td>2011-12-05 05:59:00</td>\n",
       "      <td>35000</td>\n",
       "      <td>2011-11-06 23:55:55</td>\n",
       "    </tr>\n",
       "  </tbody>\n",
       "</table>\n",
       "</div>"
      ],
      "text/plain": [
       "       name main_category             deadline    goal             launched\n",
       "142830  NaN  Film & Video  2012-02-29 15:04:00  200000  2012-01-01 12:35:31\n",
       "262901  NaN         Games  2013-01-06 23:00:00    2000  2012-12-19 23:57:48\n",
       "265251  NaN        Design  2016-07-18 05:01:47    2500  2016-06-18 05:01:47\n",
       "289847  NaN           Art  2011-12-05 05:59:00   35000  2011-11-06 23:55:55"
      ]
     },
     "execution_count": 10,
     "metadata": {},
     "output_type": "execute_result"
    }
   ],
   "source": [
    "df_raw.loc[df_raw.name.isnull(),:]"
   ]
  },
  {
   "cell_type": "code",
   "execution_count": 11,
   "metadata": {
    "colab": {
     "base_uri": "https://localhost:8080/"
    },
    "id": "QKdLQzYbBR6w",
    "outputId": "71fdc3fa-5525-4b6b-b1c2-3a6547ffee79"
   },
   "outputs": [
    {
     "data": {
      "text/plain": [
       "(323746, 5)"
      ]
     },
     "execution_count": 11,
     "metadata": {},
     "output_type": "execute_result"
    }
   ],
   "source": [
    "df_raw.dropna(axis=0,how='any',inplace=True)\n",
    "df_raw.shape"
   ]
  },
  {
   "cell_type": "markdown",
   "metadata": {
    "id": "frge8ckc_z5e"
   },
   "source": [
    "Since their categories are fairly common and their number very small when compared to the dataset, we will drop them. If they were from minority classes such as Dance or Journalism, we would probably want to keep them and add a 'missing' string as name"
   ]
  },
  {
   "cell_type": "code",
   "execution_count": 12,
   "metadata": {
    "colab": {
     "base_uri": "https://localhost:8080/"
    },
    "id": "rJTlpI7b9K6o",
    "outputId": "3b0fa997-cef4-40f1-b890-04f8774db4f2"
   },
   "outputs": [
    {
     "data": {
      "text/plain": [
       "Film & Video    0.178158\n",
       "Music           0.144385\n",
       "Publishing      0.105740\n",
       "Games           0.086509\n",
       "Technology      0.080705\n",
       "Art             0.074052\n",
       "Design          0.073734\n",
       "Food            0.065573\n",
       "Fashion         0.056829\n",
       "Theater         0.030802\n",
       "Photography     0.029900\n",
       "Comics          0.027037\n",
       "Crafts          0.022200\n",
       "Journalism      0.012581\n",
       "Dance           0.010425\n",
       "Name: main_category, dtype: float64"
      ]
     },
     "execution_count": 12,
     "metadata": {},
     "output_type": "execute_result"
    }
   ],
   "source": [
    "labels_distribution = df_raw.main_category.value_counts(normalize=True)\n",
    "labels_distribution[:15]"
   ]
  },
  {
   "cell_type": "markdown",
   "metadata": {
    "id": "7Af1oD5pZdiH"
   },
   "source": [
    "We' re just going to consider the top 15 categories, the remaining categories are pretty uncommon"
   ]
  },
  {
   "cell_type": "code",
   "execution_count": 13,
   "metadata": {
    "id": "IHTfFJL3Zc44"
   },
   "outputs": [],
   "source": [
    "popular_cat_mask = df_raw.main_category.isin(labels_distribution[:15].index)\n",
    "df_raw = df_raw.loc[popular_cat_mask,:]"
   ]
  },
  {
   "cell_type": "markdown",
   "metadata": {
    "id": "41zbyznz-0Bc"
   },
   "source": [
    "The top 4 categories (Film & Video, Music, Publishing, Games) contain almost 50% of the projects"
   ]
  },
  {
   "cell_type": "markdown",
   "metadata": {
    "id": "hSV4P5PcFD2Y"
   },
   "source": [
    "Parsing dates, we want to know the launching year/month and the duration (deadline - lunch)"
   ]
  },
  {
   "cell_type": "code",
   "execution_count": 38,
   "metadata": {
    "colab": {
     "base_uri": "https://localhost:8080/",
     "height": 664
    },
    "id": "_AQd9ro5BjLr",
    "outputId": "4c605bff-c8b8-4540-f3b9-fb8aaeed1bbe"
   },
   "outputs": [
    {
     "ename": "OutOfBoundsDatetime",
     "evalue": "ignored",
     "output_type": "error",
     "traceback": [
      "\u001b[0;31m---------------------------------------------------------------------------\u001b[0m",
      "\u001b[0;31mTypeError\u001b[0m                                 Traceback (most recent call last)",
      "\u001b[0;32m/usr/local/lib/python3.6/dist-packages/pandas/core/arrays/datetimes.py\u001b[0m in \u001b[0;36mobjects_to_datetime64ns\u001b[0;34m(data, dayfirst, yearfirst, utc, errors, require_iso8601, allow_object)\u001b[0m\n\u001b[1;32m   2058\u001b[0m         \u001b[0;32mtry\u001b[0m\u001b[0;34m:\u001b[0m\u001b[0;34m\u001b[0m\u001b[0;34m\u001b[0m\u001b[0m\n\u001b[0;32m-> 2059\u001b[0;31m             \u001b[0mvalues\u001b[0m\u001b[0;34m,\u001b[0m \u001b[0mtz_parsed\u001b[0m \u001b[0;34m=\u001b[0m \u001b[0mconversion\u001b[0m\u001b[0;34m.\u001b[0m\u001b[0mdatetime_to_datetime64\u001b[0m\u001b[0;34m(\u001b[0m\u001b[0mdata\u001b[0m\u001b[0;34m)\u001b[0m\u001b[0;34m\u001b[0m\u001b[0;34m\u001b[0m\u001b[0m\n\u001b[0m\u001b[1;32m   2060\u001b[0m             \u001b[0;31m# If tzaware, these values represent unix timestamps, so we\u001b[0m\u001b[0;34m\u001b[0m\u001b[0;34m\u001b[0m\u001b[0;34m\u001b[0m\u001b[0m\n",
      "\u001b[0;32mpandas/_libs/tslibs/conversion.pyx\u001b[0m in \u001b[0;36mpandas._libs.tslibs.conversion.datetime_to_datetime64\u001b[0;34m()\u001b[0m\n",
      "\u001b[0;31mTypeError\u001b[0m: Unrecognized value type: <class 'str'>",
      "\nDuring handling of the above exception, another exception occurred:\n",
      "\u001b[0;31mOutOfBoundsDatetime\u001b[0m                       Traceback (most recent call last)",
      "\u001b[0;32m<ipython-input-38-05e998f18c91>\u001b[0m in \u001b[0;36m<module>\u001b[0;34m()\u001b[0m\n\u001b[0;32m----> 1\u001b[0;31m \u001b[0mpd\u001b[0m\u001b[0;34m.\u001b[0m\u001b[0mto_datetime\u001b[0m\u001b[0;34m(\u001b[0m\u001b[0mdf_raw\u001b[0m\u001b[0;34m.\u001b[0m\u001b[0mlaunched\u001b[0m\u001b[0;34m,\u001b[0m\u001b[0mformat\u001b[0m\u001b[0;34m=\u001b[0m \u001b[0;34m'%Y-%m-%d %H:%M:%S'\u001b[0m\u001b[0;34m)\u001b[0m\u001b[0;34m\u001b[0m\u001b[0;34m\u001b[0m\u001b[0m\n\u001b[0m",
      "\u001b[0;32m/usr/local/lib/python3.6/dist-packages/pandas/core/tools/datetimes.py\u001b[0m in \u001b[0;36mto_datetime\u001b[0;34m(arg, errors, dayfirst, yearfirst, utc, format, exact, unit, infer_datetime_format, origin, cache)\u001b[0m\n\u001b[1;32m    801\u001b[0m             \u001b[0mresult\u001b[0m \u001b[0;34m=\u001b[0m \u001b[0marg\u001b[0m\u001b[0;34m.\u001b[0m\u001b[0mmap\u001b[0m\u001b[0;34m(\u001b[0m\u001b[0mcache_array\u001b[0m\u001b[0;34m)\u001b[0m\u001b[0;34m\u001b[0m\u001b[0;34m\u001b[0m\u001b[0m\n\u001b[1;32m    802\u001b[0m         \u001b[0;32melse\u001b[0m\u001b[0;34m:\u001b[0m\u001b[0;34m\u001b[0m\u001b[0;34m\u001b[0m\u001b[0m\n\u001b[0;32m--> 803\u001b[0;31m             \u001b[0mvalues\u001b[0m \u001b[0;34m=\u001b[0m \u001b[0mconvert_listlike\u001b[0m\u001b[0;34m(\u001b[0m\u001b[0marg\u001b[0m\u001b[0;34m.\u001b[0m\u001b[0m_values\u001b[0m\u001b[0;34m,\u001b[0m \u001b[0mformat\u001b[0m\u001b[0;34m)\u001b[0m\u001b[0;34m\u001b[0m\u001b[0;34m\u001b[0m\u001b[0m\n\u001b[0m\u001b[1;32m    804\u001b[0m             \u001b[0mresult\u001b[0m \u001b[0;34m=\u001b[0m \u001b[0marg\u001b[0m\u001b[0;34m.\u001b[0m\u001b[0m_constructor\u001b[0m\u001b[0;34m(\u001b[0m\u001b[0mvalues\u001b[0m\u001b[0;34m,\u001b[0m \u001b[0mindex\u001b[0m\u001b[0;34m=\u001b[0m\u001b[0marg\u001b[0m\u001b[0;34m.\u001b[0m\u001b[0mindex\u001b[0m\u001b[0;34m,\u001b[0m \u001b[0mname\u001b[0m\u001b[0;34m=\u001b[0m\u001b[0marg\u001b[0m\u001b[0;34m.\u001b[0m\u001b[0mname\u001b[0m\u001b[0;34m)\u001b[0m\u001b[0;34m\u001b[0m\u001b[0;34m\u001b[0m\u001b[0m\n\u001b[1;32m    805\u001b[0m     \u001b[0;32melif\u001b[0m \u001b[0misinstance\u001b[0m\u001b[0;34m(\u001b[0m\u001b[0marg\u001b[0m\u001b[0;34m,\u001b[0m \u001b[0;34m(\u001b[0m\u001b[0mABCDataFrame\u001b[0m\u001b[0;34m,\u001b[0m \u001b[0mabc\u001b[0m\u001b[0;34m.\u001b[0m\u001b[0mMutableMapping\u001b[0m\u001b[0;34m)\u001b[0m\u001b[0;34m)\u001b[0m\u001b[0;34m:\u001b[0m\u001b[0;34m\u001b[0m\u001b[0;34m\u001b[0m\u001b[0m\n",
      "\u001b[0;32m/usr/local/lib/python3.6/dist-packages/pandas/core/tools/datetimes.py\u001b[0m in \u001b[0;36m_convert_listlike_datetimes\u001b[0;34m(arg, format, name, tz, unit, errors, infer_datetime_format, dayfirst, yearfirst, exact)\u001b[0m\n\u001b[1;32m    464\u001b[0m             \u001b[0merrors\u001b[0m\u001b[0;34m=\u001b[0m\u001b[0merrors\u001b[0m\u001b[0;34m,\u001b[0m\u001b[0;34m\u001b[0m\u001b[0;34m\u001b[0m\u001b[0m\n\u001b[1;32m    465\u001b[0m             \u001b[0mrequire_iso8601\u001b[0m\u001b[0;34m=\u001b[0m\u001b[0mrequire_iso8601\u001b[0m\u001b[0;34m,\u001b[0m\u001b[0;34m\u001b[0m\u001b[0;34m\u001b[0m\u001b[0m\n\u001b[0;32m--> 466\u001b[0;31m             \u001b[0mallow_object\u001b[0m\u001b[0;34m=\u001b[0m\u001b[0;32mTrue\u001b[0m\u001b[0;34m,\u001b[0m\u001b[0;34m\u001b[0m\u001b[0;34m\u001b[0m\u001b[0m\n\u001b[0m\u001b[1;32m    467\u001b[0m         )\n\u001b[1;32m    468\u001b[0m \u001b[0;34m\u001b[0m\u001b[0m\n",
      "\u001b[0;32m/usr/local/lib/python3.6/dist-packages/pandas/core/arrays/datetimes.py\u001b[0m in \u001b[0;36mobjects_to_datetime64ns\u001b[0;34m(data, dayfirst, yearfirst, utc, errors, require_iso8601, allow_object)\u001b[0m\n\u001b[1;32m   2062\u001b[0m             \u001b[0;32mreturn\u001b[0m \u001b[0mvalues\u001b[0m\u001b[0;34m.\u001b[0m\u001b[0mview\u001b[0m\u001b[0;34m(\u001b[0m\u001b[0;34m\"i8\"\u001b[0m\u001b[0;34m)\u001b[0m\u001b[0;34m,\u001b[0m \u001b[0mtz_parsed\u001b[0m\u001b[0;34m\u001b[0m\u001b[0;34m\u001b[0m\u001b[0m\n\u001b[1;32m   2063\u001b[0m         \u001b[0;32mexcept\u001b[0m \u001b[0;34m(\u001b[0m\u001b[0mValueError\u001b[0m\u001b[0;34m,\u001b[0m \u001b[0mTypeError\u001b[0m\u001b[0;34m)\u001b[0m\u001b[0;34m:\u001b[0m\u001b[0;34m\u001b[0m\u001b[0;34m\u001b[0m\u001b[0m\n\u001b[0;32m-> 2064\u001b[0;31m             \u001b[0;32mraise\u001b[0m \u001b[0me\u001b[0m\u001b[0;34m\u001b[0m\u001b[0;34m\u001b[0m\u001b[0m\n\u001b[0m\u001b[1;32m   2065\u001b[0m \u001b[0;34m\u001b[0m\u001b[0m\n\u001b[1;32m   2066\u001b[0m     \u001b[0;32mif\u001b[0m \u001b[0mtz_parsed\u001b[0m \u001b[0;32mis\u001b[0m \u001b[0;32mnot\u001b[0m \u001b[0;32mNone\u001b[0m\u001b[0;34m:\u001b[0m\u001b[0;34m\u001b[0m\u001b[0;34m\u001b[0m\u001b[0m\n",
      "\u001b[0;32m/usr/local/lib/python3.6/dist-packages/pandas/core/arrays/datetimes.py\u001b[0m in \u001b[0;36mobjects_to_datetime64ns\u001b[0;34m(data, dayfirst, yearfirst, utc, errors, require_iso8601, allow_object)\u001b[0m\n\u001b[1;32m   2053\u001b[0m             \u001b[0mdayfirst\u001b[0m\u001b[0;34m=\u001b[0m\u001b[0mdayfirst\u001b[0m\u001b[0;34m,\u001b[0m\u001b[0;34m\u001b[0m\u001b[0;34m\u001b[0m\u001b[0m\n\u001b[1;32m   2054\u001b[0m             \u001b[0myearfirst\u001b[0m\u001b[0;34m=\u001b[0m\u001b[0myearfirst\u001b[0m\u001b[0;34m,\u001b[0m\u001b[0;34m\u001b[0m\u001b[0;34m\u001b[0m\u001b[0m\n\u001b[0;32m-> 2055\u001b[0;31m             \u001b[0mrequire_iso8601\u001b[0m\u001b[0;34m=\u001b[0m\u001b[0mrequire_iso8601\u001b[0m\u001b[0;34m,\u001b[0m\u001b[0;34m\u001b[0m\u001b[0;34m\u001b[0m\u001b[0m\n\u001b[0m\u001b[1;32m   2056\u001b[0m         )\n\u001b[1;32m   2057\u001b[0m     \u001b[0;32mexcept\u001b[0m \u001b[0mValueError\u001b[0m \u001b[0;32mas\u001b[0m \u001b[0me\u001b[0m\u001b[0;34m:\u001b[0m\u001b[0;34m\u001b[0m\u001b[0;34m\u001b[0m\u001b[0m\n",
      "\u001b[0;32mpandas/_libs/tslib.pyx\u001b[0m in \u001b[0;36mpandas._libs.tslib.array_to_datetime\u001b[0;34m()\u001b[0m\n",
      "\u001b[0;32mpandas/_libs/tslib.pyx\u001b[0m in \u001b[0;36mpandas._libs.tslib.array_to_datetime\u001b[0;34m()\u001b[0m\n",
      "\u001b[0;32mpandas/_libs/tslib.pyx\u001b[0m in \u001b[0;36mpandas._libs.tslib.array_to_datetime\u001b[0;34m()\u001b[0m\n",
      "\u001b[0;32mpandas/_libs/tslib.pyx\u001b[0m in \u001b[0;36mpandas._libs.tslib.array_to_datetime\u001b[0;34m()\u001b[0m\n",
      "\u001b[0;32mpandas/_libs/tslibs/np_datetime.pyx\u001b[0m in \u001b[0;36mpandas._libs.tslibs.np_datetime.check_dts_bounds\u001b[0;34m()\u001b[0m\n",
      "\u001b[0;31mOutOfBoundsDatetime\u001b[0m: Out of bounds nanosecond timestamp: 5000-01-01 00:00:00"
     ]
    }
   ],
   "source": [
    "pd.to_datetime(df_raw.launched,format= '%Y-%m-%d %H:%M:%S')"
   ]
  },
  {
   "cell_type": "markdown",
   "metadata": {
    "id": "hKAYuajPHk1I"
   },
   "source": [
    "We get an error when parsing the dates, let's see what's the problem"
   ]
  },
  {
   "cell_type": "code",
   "execution_count": 39,
   "metadata": {
    "colab": {
     "base_uri": "https://localhost:8080/"
    },
    "id": "lV3-5BMCE_4g",
    "outputId": "db14c279-b74c-421b-e6c5-2051f3ca3be9"
   },
   "outputs": [
    {
     "data": {
      "text/plain": [
       "2015    77180\n",
       "2014    67602\n",
       "2016    54494\n",
       "2013    44755\n",
       "2012    41088\n",
       "        ...  \n",
       "1600        1\n",
       "3650        1\n",
       "6857        1\n",
       "6600        1\n",
       "3550        1\n",
       "Name: launched, Length: 65, dtype: int64"
      ]
     },
     "execution_count": 39,
     "metadata": {
      "tags": []
     },
     "output_type": "execute_result"
    }
   ],
   "source": [
    "df_raw.launched.str.slice(0,4).value_counts()"
   ]
  },
  {
   "cell_type": "markdown",
   "metadata": {
    "id": "Xgo2xbSyH7JN"
   },
   "source": [
    "There are some incorrect dates"
   ]
  },
  {
   "cell_type": "code",
   "execution_count": 14,
   "metadata": {
    "id": "HgATLArWGWqn"
   },
   "outputs": [],
   "source": [
    "mask = (df_raw.launched.str.slice(0,4).astype(int) < 2009) | (df_raw.launched.str.slice(0,4).astype(int) > 2016)"
   ]
  },
  {
   "cell_type": "code",
   "execution_count": 15,
   "metadata": {
    "colab": {
     "base_uri": "https://localhost:8080/",
     "height": 419
    },
    "id": "G_QXKYp8INce",
    "outputId": "30eb6f17-f4df-4f87-8bb8-e24a2032a25c"
   },
   "outputs": [
    {
     "data": {
      "text/html": [
       "<div>\n",
       "<style scoped>\n",
       "    .dataframe tbody tr th:only-of-type {\n",
       "        vertical-align: middle;\n",
       "    }\n",
       "\n",
       "    .dataframe tbody tr th {\n",
       "        vertical-align: top;\n",
       "    }\n",
       "\n",
       "    .dataframe thead th {\n",
       "        text-align: right;\n",
       "    }\n",
       "</style>\n",
       "<table border=\"1\" class=\"dataframe\">\n",
       "  <thead>\n",
       "    <tr style=\"text-align: right;\">\n",
       "      <th></th>\n",
       "      <th>name</th>\n",
       "      <th>main_category</th>\n",
       "      <th>deadline</th>\n",
       "      <th>goal</th>\n",
       "      <th>launched</th>\n",
       "    </tr>\n",
       "  </thead>\n",
       "  <tbody>\n",
       "    <tr>\n",
       "      <th>1794</th>\n",
       "      <td>The Beginners Guide to being Unsuicidal</td>\n",
       "      <td>Theater</td>\n",
       "      <td>USD</td>\n",
       "      <td>2011-12-31 23:25:46</td>\n",
       "      <td>5000</td>\n",
       "    </tr>\n",
       "    <tr>\n",
       "      <th>2443</th>\n",
       "      <td>Salt of the Earth: A Dead Sea Movie (Canceled)</td>\n",
       "      <td>Film &amp; Video</td>\n",
       "      <td>2010-09-15 02:00:00</td>\n",
       "      <td>5000</td>\n",
       "      <td>1970-01-01 01:00:00</td>\n",
       "    </tr>\n",
       "    <tr>\n",
       "      <th>5813</th>\n",
       "      <td>Batman Dead End</td>\n",
       "      <td>Film &amp; Video</td>\n",
       "      <td>USD</td>\n",
       "      <td>2013-03-28 15:03:32</td>\n",
       "      <td>12500</td>\n",
       "    </tr>\n",
       "    <tr>\n",
       "      <th>14446</th>\n",
       "      <td>Shade Tree Brewing Company</td>\n",
       "      <td>Food</td>\n",
       "      <td>USD</td>\n",
       "      <td>2012-02-03 18:19:09</td>\n",
       "      <td>15000</td>\n",
       "    </tr>\n",
       "    <tr>\n",
       "      <th>15945</th>\n",
       "      <td>Bea Arthur's bust</td>\n",
       "      <td>Art</td>\n",
       "      <td>USD</td>\n",
       "      <td>2015-07-11 05:24:29</td>\n",
       "      <td>13</td>\n",
       "    </tr>\n",
       "    <tr>\n",
       "      <th>...</th>\n",
       "      <td>...</td>\n",
       "      <td>...</td>\n",
       "      <td>...</td>\n",
       "      <td>...</td>\n",
       "      <td>...</td>\n",
       "    </tr>\n",
       "    <tr>\n",
       "      <th>319816</th>\n",
       "      <td>Building poverty stricken communities</td>\n",
       "      <td>Fashion</td>\n",
       "      <td>USD</td>\n",
       "      <td>2014-12-12 19:08:17</td>\n",
       "      <td>3210</td>\n",
       "    </tr>\n",
       "    <tr>\n",
       "      <th>319999</th>\n",
       "      <td>1024x768 {height:127px</td>\n",
       "      <td>Design</td>\n",
       "      <td>CAD</td>\n",
       "      <td>2014-08-10 21:02:48</td>\n",
       "      <td>16000</td>\n",
       "    </tr>\n",
       "    <tr>\n",
       "      <th>320631</th>\n",
       "      <td>A Vodcast on Green Tech and Society</td>\n",
       "      <td>Journalism</td>\n",
       "      <td>USD</td>\n",
       "      <td>2011-03-02 15:07:22</td>\n",
       "      <td>3000</td>\n",
       "    </tr>\n",
       "    <tr>\n",
       "      <th>322204</th>\n",
       "      <td>Feet on the Ground</td>\n",
       "      <td>Film &amp; Video</td>\n",
       "      <td>USD</td>\n",
       "      <td>2013-04-17 16:00:31</td>\n",
       "      <td>35000</td>\n",
       "    </tr>\n",
       "    <tr>\n",
       "      <th>323495</th>\n",
       "      <td>Art/sustainability/spirituality</td>\n",
       "      <td>Photography</td>\n",
       "      <td>USD</td>\n",
       "      <td>2013-03-05 21:00:00</td>\n",
       "      <td>2500</td>\n",
       "    </tr>\n",
       "  </tbody>\n",
       "</table>\n",
       "<p>195 rows × 5 columns</p>\n",
       "</div>"
      ],
      "text/plain": [
       "                                                  name main_category  \\\n",
       "1794           The Beginners Guide to being Unsuicidal       Theater   \n",
       "2443    Salt of the Earth: A Dead Sea Movie (Canceled)  Film & Video   \n",
       "5813                                   Batman Dead End  Film & Video   \n",
       "14446                       Shade Tree Brewing Company          Food   \n",
       "15945                                Bea Arthur's bust           Art   \n",
       "...                                                ...           ...   \n",
       "319816           Building poverty stricken communities       Fashion   \n",
       "319999                          1024x768 {height:127px        Design   \n",
       "320631             A Vodcast on Green Tech and Society    Journalism   \n",
       "322204                              Feet on the Ground  Film & Video   \n",
       "323495                 Art/sustainability/spirituality   Photography   \n",
       "\n",
       "                   deadline                 goal             launched  \n",
       "1794                    USD  2011-12-31 23:25:46                 5000  \n",
       "2443    2010-09-15 02:00:00                 5000  1970-01-01 01:00:00  \n",
       "5813                    USD  2013-03-28 15:03:32                12500  \n",
       "14446                   USD  2012-02-03 18:19:09                15000  \n",
       "15945                   USD  2015-07-11 05:24:29                   13  \n",
       "...                     ...                  ...                  ...  \n",
       "319816                  USD  2014-12-12 19:08:17                 3210  \n",
       "319999                  CAD  2014-08-10 21:02:48                16000  \n",
       "320631                  USD  2011-03-02 15:07:22                 3000  \n",
       "322204                  USD  2013-04-17 16:00:31                35000  \n",
       "323495                  USD  2013-03-05 21:00:00                 2500  \n",
       "\n",
       "[195 rows x 5 columns]"
      ]
     },
     "execution_count": 15,
     "metadata": {},
     "output_type": "execute_result"
    }
   ],
   "source": [
    "df_raw.loc[mask,:]"
   ]
  },
  {
   "cell_type": "markdown",
   "metadata": {
    "id": "FwMcpxoXJKNb"
   },
   "source": [
    "Some of the columns were swapped, but even if we swap them again we would still be missing information. We will also drop these rows"
   ]
  },
  {
   "cell_type": "code",
   "execution_count": 16,
   "metadata": {
    "id": "APGsYjsVIb4f"
   },
   "outputs": [],
   "source": [
    "df_raw.drop(df_raw.loc[mask,:].index,inplace=True)"
   ]
  },
  {
   "cell_type": "code",
   "execution_count": 17,
   "metadata": {
    "colab": {
     "base_uri": "https://localhost:8080/"
    },
    "id": "IVKMEiaRK49o",
    "outputId": "51954dec-3000-4d7a-8744-030f44e0b679"
   },
   "outputs": [
    {
     "data": {
      "text/plain": [
       "(323107, 5)"
      ]
     },
     "execution_count": 17,
     "metadata": {},
     "output_type": "execute_result"
    }
   ],
   "source": [
    "df_raw.shape"
   ]
  },
  {
   "cell_type": "code",
   "execution_count": 18,
   "metadata": {
    "colab": {
     "base_uri": "https://localhost:8080/"
    },
    "id": "8b0ApIayK6EC",
    "outputId": "8bd83388-11ed-40d6-cd6d-85979a6e7d0e"
   },
   "outputs": [
    {
     "data": {
      "text/plain": [
       "2015    77180\n",
       "2014    67602\n",
       "2016    54494\n",
       "2013    44755\n",
       "2012    41088\n",
       "2011    26173\n",
       "2010    10491\n",
       "2009     1324\n",
       "Name: launched, dtype: int64"
      ]
     },
     "execution_count": 18,
     "metadata": {},
     "output_type": "execute_result"
    }
   ],
   "source": [
    "df_raw.launched.str.slice(0,4).value_counts()"
   ]
  },
  {
   "cell_type": "code",
   "execution_count": 19,
   "metadata": {
    "id": "IotPlWYaLRE9"
   },
   "outputs": [],
   "source": [
    "df_raw.reset_index(inplace=True, drop=True)\n"
   ]
  },
  {
   "cell_type": "code",
   "execution_count": 20,
   "metadata": {
    "id": "tlnEGtxSK9GA"
   },
   "outputs": [],
   "source": [
    "parse_launch_dates = pd.to_datetime(df_raw.launched,format= '%Y-%m-%d %H:%M:%S')\n",
    "parse_deadline_dates = pd.to_datetime(df_raw.deadline,format= '%Y-%m-%d %H:%M:%S')"
   ]
  },
  {
   "cell_type": "code",
   "execution_count": 21,
   "metadata": {
    "id": "RyHGN2s8LBaF"
   },
   "outputs": [],
   "source": [
    "df_raw['year'] = parse_launch_dates.dt.year\n",
    "df_raw['month'] = parse_launch_dates.dt.month"
   ]
  },
  {
   "cell_type": "code",
   "execution_count": 22,
   "metadata": {
    "id": "iNA2Z5uKLkVS"
   },
   "outputs": [],
   "source": [
    "# duration of each project fundraising\n",
    "df_raw['duration'] = (parse_deadline_dates - parse_launch_dates).dt.days"
   ]
  },
  {
   "cell_type": "markdown",
   "metadata": {
    "id": "YYl63Tw4NfFW"
   },
   "source": [
    "I believe the months themselves are not very informative, let's group by quarter"
   ]
  },
  {
   "cell_type": "code",
   "execution_count": 23,
   "metadata": {
    "id": "tUVngcqtMO9n"
   },
   "outputs": [],
   "source": [
    "df_raw['quarter'] = df_raw.month.map({1:'Q1',2:'Q1',3:'Q1',4:'Q2',5:'Q2',6:'Q2',\n",
    "                  7:'Q3',8:'Q3',9:'Q3',10:'Q4',11:'Q4',12:'Q4'})"
   ]
  },
  {
   "cell_type": "markdown",
   "metadata": {
    "id": "W5uLrI-0OFhZ"
   },
   "source": [
    "The data should be good to go now"
   ]
  },
  {
   "cell_type": "code",
   "execution_count": 24,
   "metadata": {
    "id": "BTir9G5UNrh1"
   },
   "outputs": [],
   "source": [
    "df = df_raw[['name','goal','main_category','year','duration','quarter']]"
   ]
  },
  {
   "cell_type": "code",
   "execution_count": 25,
   "metadata": {
    "id": "WcV5aoDiRxky"
   },
   "outputs": [],
   "source": [
    "df = df.astype({'goal':float,'duration':int,'year':int})"
   ]
  },
  {
   "cell_type": "code",
   "execution_count": 26,
   "metadata": {
    "colab": {
     "base_uri": "https://localhost:8080/",
     "height": 204
    },
    "id": "GrDCzMwuOnTc",
    "outputId": "b4097b6c-6612-495f-85e5-872aa1932d0f"
   },
   "outputs": [
    {
     "data": {
      "text/html": [
       "<div>\n",
       "<style scoped>\n",
       "    .dataframe tbody tr th:only-of-type {\n",
       "        vertical-align: middle;\n",
       "    }\n",
       "\n",
       "    .dataframe tbody tr th {\n",
       "        vertical-align: top;\n",
       "    }\n",
       "\n",
       "    .dataframe thead th {\n",
       "        text-align: right;\n",
       "    }\n",
       "</style>\n",
       "<table border=\"1\" class=\"dataframe\">\n",
       "  <thead>\n",
       "    <tr style=\"text-align: right;\">\n",
       "      <th></th>\n",
       "      <th>name</th>\n",
       "      <th>goal</th>\n",
       "      <th>main_category</th>\n",
       "      <th>year</th>\n",
       "      <th>duration</th>\n",
       "      <th>quarter</th>\n",
       "    </tr>\n",
       "  </thead>\n",
       "  <tbody>\n",
       "    <tr>\n",
       "      <th>0</th>\n",
       "      <td>The Songs of Adelaide &amp; Abullah</td>\n",
       "      <td>1000.0</td>\n",
       "      <td>Publishing</td>\n",
       "      <td>2015</td>\n",
       "      <td>58</td>\n",
       "      <td>Q3</td>\n",
       "    </tr>\n",
       "    <tr>\n",
       "      <th>1</th>\n",
       "      <td>Where is Hank?</td>\n",
       "      <td>45000.0</td>\n",
       "      <td>Film &amp; Video</td>\n",
       "      <td>2013</td>\n",
       "      <td>45</td>\n",
       "      <td>Q1</td>\n",
       "    </tr>\n",
       "    <tr>\n",
       "      <th>2</th>\n",
       "      <td>ToshiCapital Rekordz Needs Help to Complete Album</td>\n",
       "      <td>5000.0</td>\n",
       "      <td>Music</td>\n",
       "      <td>2012</td>\n",
       "      <td>30</td>\n",
       "      <td>Q1</td>\n",
       "    </tr>\n",
       "    <tr>\n",
       "      <th>3</th>\n",
       "      <td>Community Film Project: The Art of Neighborhoo...</td>\n",
       "      <td>19500.0</td>\n",
       "      <td>Film &amp; Video</td>\n",
       "      <td>2015</td>\n",
       "      <td>55</td>\n",
       "      <td>Q3</td>\n",
       "    </tr>\n",
       "    <tr>\n",
       "      <th>4</th>\n",
       "      <td>Monarch Espresso Bar</td>\n",
       "      <td>50000.0</td>\n",
       "      <td>Food</td>\n",
       "      <td>2016</td>\n",
       "      <td>35</td>\n",
       "      <td>Q1</td>\n",
       "    </tr>\n",
       "  </tbody>\n",
       "</table>\n",
       "</div>"
      ],
      "text/plain": [
       "                                                name     goal main_category  \\\n",
       "0                    The Songs of Adelaide & Abullah   1000.0    Publishing   \n",
       "1                                     Where is Hank?  45000.0  Film & Video   \n",
       "2  ToshiCapital Rekordz Needs Help to Complete Album   5000.0         Music   \n",
       "3  Community Film Project: The Art of Neighborhoo...  19500.0  Film & Video   \n",
       "4                               Monarch Espresso Bar  50000.0          Food   \n",
       "\n",
       "   year  duration quarter  \n",
       "0  2015        58      Q3  \n",
       "1  2013        45      Q1  \n",
       "2  2012        30      Q1  \n",
       "3  2015        55      Q3  \n",
       "4  2016        35      Q1  "
      ]
     },
     "execution_count": 26,
     "metadata": {},
     "output_type": "execute_result"
    }
   ],
   "source": [
    "df.head()"
   ]
  },
  {
   "cell_type": "markdown",
   "metadata": {
    "id": "UgDaGg5AQZtQ"
   },
   "source": [
    "We don't have that much information, so it's desirable to find a way to combine text and the remaining features.\n",
    "That said, we should first see what we get by using just one \"source\" of data"
   ]
  },
  {
   "cell_type": "markdown",
   "metadata": {
    "id": "HjhKd07wRWJa"
   },
   "source": [
    "### Dense features (goal,year,duration,quarter)"
   ]
  },
  {
   "cell_type": "code",
   "execution_count": 27,
   "metadata": {
    "id": "n7DWor8DPCAW"
   },
   "outputs": [],
   "source": [
    "dense_cols = ['goal','main_category','year','duration','quarter']"
   ]
  },
  {
   "cell_type": "code",
   "execution_count": 28,
   "metadata": {
    "colab": {
     "base_uri": "https://localhost:8080/",
     "height": 596
    },
    "id": "V8SiuJpOOoh8",
    "outputId": "cba5c815-ff7d-421a-80f7-ddbd3c37ee3a"
   },
   "outputs": [
    {
     "data": {
      "text/html": [
       "<div>\n",
       "<style scoped>\n",
       "    .dataframe tbody tr th:only-of-type {\n",
       "        vertical-align: middle;\n",
       "    }\n",
       "\n",
       "    .dataframe tbody tr th {\n",
       "        vertical-align: top;\n",
       "    }\n",
       "\n",
       "    .dataframe thead tr th {\n",
       "        text-align: left;\n",
       "    }\n",
       "\n",
       "    .dataframe thead tr:last-of-type th {\n",
       "        text-align: right;\n",
       "    }\n",
       "</style>\n",
       "<table border=\"1\" class=\"dataframe\">\n",
       "  <thead>\n",
       "    <tr>\n",
       "      <th></th>\n",
       "      <th colspan=\"8\" halign=\"left\">goal</th>\n",
       "      <th colspan=\"5\" halign=\"left\">duration</th>\n",
       "      <th colspan=\"8\" halign=\"left\">year</th>\n",
       "    </tr>\n",
       "    <tr>\n",
       "      <th></th>\n",
       "      <th>count</th>\n",
       "      <th>mean</th>\n",
       "      <th>std</th>\n",
       "      <th>min</th>\n",
       "      <th>25%</th>\n",
       "      <th>50%</th>\n",
       "      <th>75%</th>\n",
       "      <th>max</th>\n",
       "      <th>count</th>\n",
       "      <th>mean</th>\n",
       "      <th>...</th>\n",
       "      <th>75%</th>\n",
       "      <th>max</th>\n",
       "      <th>count</th>\n",
       "      <th>mean</th>\n",
       "      <th>std</th>\n",
       "      <th>min</th>\n",
       "      <th>25%</th>\n",
       "      <th>50%</th>\n",
       "      <th>75%</th>\n",
       "      <th>max</th>\n",
       "    </tr>\n",
       "    <tr>\n",
       "      <th>main_category</th>\n",
       "      <th></th>\n",
       "      <th></th>\n",
       "      <th></th>\n",
       "      <th></th>\n",
       "      <th></th>\n",
       "      <th></th>\n",
       "      <th></th>\n",
       "      <th></th>\n",
       "      <th></th>\n",
       "      <th></th>\n",
       "      <th></th>\n",
       "      <th></th>\n",
       "      <th></th>\n",
       "      <th></th>\n",
       "      <th></th>\n",
       "      <th></th>\n",
       "      <th></th>\n",
       "      <th></th>\n",
       "      <th></th>\n",
       "      <th></th>\n",
       "      <th></th>\n",
       "    </tr>\n",
       "  </thead>\n",
       "  <tbody>\n",
       "    <tr>\n",
       "      <th>Art</th>\n",
       "      <td>23957.0</td>\n",
       "      <td>36414.736261</td>\n",
       "      <td>1.181736e+06</td>\n",
       "      <td>0.01</td>\n",
       "      <td>1000.000</td>\n",
       "      <td>3000.0</td>\n",
       "      <td>7500.00</td>\n",
       "      <td>100000000.0</td>\n",
       "      <td>23957.0</td>\n",
       "      <td>32.806946</td>\n",
       "      <td>...</td>\n",
       "      <td>35.0</td>\n",
       "      <td>91.0</td>\n",
       "      <td>23957.0</td>\n",
       "      <td>2013.608173</td>\n",
       "      <td>1.724889</td>\n",
       "      <td>2009.0</td>\n",
       "      <td>2012.0</td>\n",
       "      <td>2014.0</td>\n",
       "      <td>2015.0</td>\n",
       "      <td>2016.0</td>\n",
       "    </tr>\n",
       "    <tr>\n",
       "      <th>Comics</th>\n",
       "      <td>8743.0</td>\n",
       "      <td>22910.229817</td>\n",
       "      <td>1.080410e+06</td>\n",
       "      <td>1.00</td>\n",
       "      <td>1500.000</td>\n",
       "      <td>3840.0</td>\n",
       "      <td>8475.00</td>\n",
       "      <td>100000000.0</td>\n",
       "      <td>8743.0</td>\n",
       "      <td>34.601739</td>\n",
       "      <td>...</td>\n",
       "      <td>35.0</td>\n",
       "      <td>91.0</td>\n",
       "      <td>8743.0</td>\n",
       "      <td>2013.872469</td>\n",
       "      <td>1.696781</td>\n",
       "      <td>2009.0</td>\n",
       "      <td>2013.0</td>\n",
       "      <td>2014.0</td>\n",
       "      <td>2015.0</td>\n",
       "      <td>2016.0</td>\n",
       "    </tr>\n",
       "    <tr>\n",
       "      <th>Crafts</th>\n",
       "      <td>7182.0</td>\n",
       "      <td>11710.819618</td>\n",
       "      <td>1.300150e+05</td>\n",
       "      <td>1.00</td>\n",
       "      <td>644.125</td>\n",
       "      <td>2000.0</td>\n",
       "      <td>6500.00</td>\n",
       "      <td>10000000.0</td>\n",
       "      <td>7182.0</td>\n",
       "      <td>31.583821</td>\n",
       "      <td>...</td>\n",
       "      <td>30.0</td>\n",
       "      <td>91.0</td>\n",
       "      <td>7182.0</td>\n",
       "      <td>2014.590226</td>\n",
       "      <td>1.227898</td>\n",
       "      <td>2009.0</td>\n",
       "      <td>2014.0</td>\n",
       "      <td>2015.0</td>\n",
       "      <td>2015.0</td>\n",
       "      <td>2016.0</td>\n",
       "    </tr>\n",
       "    <tr>\n",
       "      <th>Dance</th>\n",
       "      <td>3372.0</td>\n",
       "      <td>9719.983778</td>\n",
       "      <td>5.585464e+04</td>\n",
       "      <td>5.00</td>\n",
       "      <td>1500.000</td>\n",
       "      <td>3000.0</td>\n",
       "      <td>6400.00</td>\n",
       "      <td>2000000.0</td>\n",
       "      <td>3372.0</td>\n",
       "      <td>32.856762</td>\n",
       "      <td>...</td>\n",
       "      <td>36.0</td>\n",
       "      <td>91.0</td>\n",
       "      <td>3372.0</td>\n",
       "      <td>2013.384045</td>\n",
       "      <td>1.736213</td>\n",
       "      <td>2009.0</td>\n",
       "      <td>2012.0</td>\n",
       "      <td>2014.0</td>\n",
       "      <td>2015.0</td>\n",
       "      <td>2016.0</td>\n",
       "    </tr>\n",
       "    <tr>\n",
       "      <th>Design</th>\n",
       "      <td>23863.0</td>\n",
       "      <td>49204.262956</td>\n",
       "      <td>1.008307e+06</td>\n",
       "      <td>1.00</td>\n",
       "      <td>4160.000</td>\n",
       "      <td>10000.0</td>\n",
       "      <td>30000.00</td>\n",
       "      <td>100000000.0</td>\n",
       "      <td>23863.0</td>\n",
       "      <td>34.441688</td>\n",
       "      <td>...</td>\n",
       "      <td>40.0</td>\n",
       "      <td>91.0</td>\n",
       "      <td>23863.0</td>\n",
       "      <td>2014.312869</td>\n",
       "      <td>1.432090</td>\n",
       "      <td>2009.0</td>\n",
       "      <td>2013.0</td>\n",
       "      <td>2015.0</td>\n",
       "      <td>2015.0</td>\n",
       "      <td>2016.0</td>\n",
       "    </tr>\n",
       "    <tr>\n",
       "      <th>Fashion</th>\n",
       "      <td>18382.0</td>\n",
       "      <td>24751.340162</td>\n",
       "      <td>7.605822e+05</td>\n",
       "      <td>1.00</td>\n",
       "      <td>2000.000</td>\n",
       "      <td>6000.0</td>\n",
       "      <td>15000.00</td>\n",
       "      <td>100000000.0</td>\n",
       "      <td>18382.0</td>\n",
       "      <td>32.913829</td>\n",
       "      <td>...</td>\n",
       "      <td>35.0</td>\n",
       "      <td>92.0</td>\n",
       "      <td>18382.0</td>\n",
       "      <td>2014.262376</td>\n",
       "      <td>1.428216</td>\n",
       "      <td>2009.0</td>\n",
       "      <td>2013.0</td>\n",
       "      <td>2015.0</td>\n",
       "      <td>2015.0</td>\n",
       "      <td>2016.0</td>\n",
       "    </tr>\n",
       "    <tr>\n",
       "      <th>Film &amp; Video</th>\n",
       "      <td>57659.0</td>\n",
       "      <td>72992.073201</td>\n",
       "      <td>1.463894e+06</td>\n",
       "      <td>0.15</td>\n",
       "      <td>2500.000</td>\n",
       "      <td>6500.0</td>\n",
       "      <td>20000.00</td>\n",
       "      <td>100000000.0</td>\n",
       "      <td>57659.0</td>\n",
       "      <td>35.208745</td>\n",
       "      <td>...</td>\n",
       "      <td>40.0</td>\n",
       "      <td>92.0</td>\n",
       "      <td>57659.0</td>\n",
       "      <td>2013.216879</td>\n",
       "      <td>1.802210</td>\n",
       "      <td>2009.0</td>\n",
       "      <td>2012.0</td>\n",
       "      <td>2013.0</td>\n",
       "      <td>2015.0</td>\n",
       "      <td>2016.0</td>\n",
       "    </tr>\n",
       "    <tr>\n",
       "      <th>Food</th>\n",
       "      <td>21198.0</td>\n",
       "      <td>50572.268969</td>\n",
       "      <td>1.027043e+06</td>\n",
       "      <td>1.00</td>\n",
       "      <td>3500.000</td>\n",
       "      <td>10000.0</td>\n",
       "      <td>25000.00</td>\n",
       "      <td>100000000.0</td>\n",
       "      <td>21198.0</td>\n",
       "      <td>33.874516</td>\n",
       "      <td>...</td>\n",
       "      <td>35.0</td>\n",
       "      <td>91.0</td>\n",
       "      <td>21198.0</td>\n",
       "      <td>2014.211435</td>\n",
       "      <td>1.368444</td>\n",
       "      <td>2009.0</td>\n",
       "      <td>2014.0</td>\n",
       "      <td>2014.0</td>\n",
       "      <td>2015.0</td>\n",
       "      <td>2016.0</td>\n",
       "    </tr>\n",
       "    <tr>\n",
       "      <th>Games</th>\n",
       "      <td>28004.0</td>\n",
       "      <td>55624.263327</td>\n",
       "      <td>1.143162e+06</td>\n",
       "      <td>1.00</td>\n",
       "      <td>2800.000</td>\n",
       "      <td>8706.0</td>\n",
       "      <td>24711.25</td>\n",
       "      <td>100000000.0</td>\n",
       "      <td>28004.0</td>\n",
       "      <td>32.758285</td>\n",
       "      <td>...</td>\n",
       "      <td>33.0</td>\n",
       "      <td>91.0</td>\n",
       "      <td>28004.0</td>\n",
       "      <td>2014.268247</td>\n",
       "      <td>1.454998</td>\n",
       "      <td>2009.0</td>\n",
       "      <td>2013.0</td>\n",
       "      <td>2015.0</td>\n",
       "      <td>2015.0</td>\n",
       "      <td>2016.0</td>\n",
       "    </tr>\n",
       "    <tr>\n",
       "      <th>Journalism</th>\n",
       "      <td>4069.0</td>\n",
       "      <td>95423.538285</td>\n",
       "      <td>2.322291e+06</td>\n",
       "      <td>1.00</td>\n",
       "      <td>1500.000</td>\n",
       "      <td>5000.0</td>\n",
       "      <td>15000.00</td>\n",
       "      <td>100000000.0</td>\n",
       "      <td>4069.0</td>\n",
       "      <td>34.416073</td>\n",
       "      <td>...</td>\n",
       "      <td>39.0</td>\n",
       "      <td>91.0</td>\n",
       "      <td>4069.0</td>\n",
       "      <td>2014.202998</td>\n",
       "      <td>1.669049</td>\n",
       "      <td>2009.0</td>\n",
       "      <td>2014.0</td>\n",
       "      <td>2015.0</td>\n",
       "      <td>2015.0</td>\n",
       "      <td>2016.0</td>\n",
       "    </tr>\n",
       "    <tr>\n",
       "      <th>Music</th>\n",
       "      <td>46717.0</td>\n",
       "      <td>15312.614626</td>\n",
       "      <td>3.671866e+05</td>\n",
       "      <td>1.00</td>\n",
       "      <td>1600.000</td>\n",
       "      <td>4000.0</td>\n",
       "      <td>8500.00</td>\n",
       "      <td>50000000.0</td>\n",
       "      <td>46717.0</td>\n",
       "      <td>35.374403</td>\n",
       "      <td>...</td>\n",
       "      <td>40.0</td>\n",
       "      <td>92.0</td>\n",
       "      <td>46717.0</td>\n",
       "      <td>2013.227819</td>\n",
       "      <td>1.799777</td>\n",
       "      <td>2009.0</td>\n",
       "      <td>2012.0</td>\n",
       "      <td>2013.0</td>\n",
       "      <td>2015.0</td>\n",
       "      <td>2016.0</td>\n",
       "    </tr>\n",
       "    <tr>\n",
       "      <th>Photography</th>\n",
       "      <td>9664.0</td>\n",
       "      <td>12719.892540</td>\n",
       "      <td>1.479436e+05</td>\n",
       "      <td>1.00</td>\n",
       "      <td>1500.000</td>\n",
       "      <td>4000.0</td>\n",
       "      <td>10000.00</td>\n",
       "      <td>10000000.0</td>\n",
       "      <td>9664.0</td>\n",
       "      <td>33.817984</td>\n",
       "      <td>...</td>\n",
       "      <td>36.0</td>\n",
       "      <td>91.0</td>\n",
       "      <td>9664.0</td>\n",
       "      <td>2013.621378</td>\n",
       "      <td>1.731651</td>\n",
       "      <td>2009.0</td>\n",
       "      <td>2012.0</td>\n",
       "      <td>2014.0</td>\n",
       "      <td>2015.0</td>\n",
       "      <td>2016.0</td>\n",
       "    </tr>\n",
       "    <tr>\n",
       "      <th>Publishing</th>\n",
       "      <td>34220.0</td>\n",
       "      <td>30663.582261</td>\n",
       "      <td>1.170802e+06</td>\n",
       "      <td>0.01</td>\n",
       "      <td>2000.000</td>\n",
       "      <td>5000.0</td>\n",
       "      <td>10000.00</td>\n",
       "      <td>100000000.0</td>\n",
       "      <td>34220.0</td>\n",
       "      <td>33.911397</td>\n",
       "      <td>...</td>\n",
       "      <td>35.0</td>\n",
       "      <td>91.0</td>\n",
       "      <td>34220.0</td>\n",
       "      <td>2013.755026</td>\n",
       "      <td>1.610021</td>\n",
       "      <td>2009.0</td>\n",
       "      <td>2013.0</td>\n",
       "      <td>2014.0</td>\n",
       "      <td>2015.0</td>\n",
       "      <td>2016.0</td>\n",
       "    </tr>\n",
       "    <tr>\n",
       "      <th>Technology</th>\n",
       "      <td>26116.0</td>\n",
       "      <td>116349.361663</td>\n",
       "      <td>1.747727e+06</td>\n",
       "      <td>1.00</td>\n",
       "      <td>5000.000</td>\n",
       "      <td>20000.0</td>\n",
       "      <td>50000.00</td>\n",
       "      <td>100000000.0</td>\n",
       "      <td>26116.0</td>\n",
       "      <td>35.307321</td>\n",
       "      <td>...</td>\n",
       "      <td>40.0</td>\n",
       "      <td>91.0</td>\n",
       "      <td>26116.0</td>\n",
       "      <td>2014.646921</td>\n",
       "      <td>1.228846</td>\n",
       "      <td>2009.0</td>\n",
       "      <td>2014.0</td>\n",
       "      <td>2015.0</td>\n",
       "      <td>2016.0</td>\n",
       "      <td>2016.0</td>\n",
       "    </tr>\n",
       "    <tr>\n",
       "      <th>Theater</th>\n",
       "      <td>9961.0</td>\n",
       "      <td>26503.535248</td>\n",
       "      <td>5.496955e+05</td>\n",
       "      <td>1.00</td>\n",
       "      <td>1500.000</td>\n",
       "      <td>3000.0</td>\n",
       "      <td>7500.00</td>\n",
       "      <td>40000000.0</td>\n",
       "      <td>9961.0</td>\n",
       "      <td>33.440920</td>\n",
       "      <td>...</td>\n",
       "      <td>38.0</td>\n",
       "      <td>92.0</td>\n",
       "      <td>9961.0</td>\n",
       "      <td>2013.170766</td>\n",
       "      <td>1.796039</td>\n",
       "      <td>2009.0</td>\n",
       "      <td>2012.0</td>\n",
       "      <td>2013.0</td>\n",
       "      <td>2015.0</td>\n",
       "      <td>2016.0</td>\n",
       "    </tr>\n",
       "  </tbody>\n",
       "</table>\n",
       "<p>15 rows × 24 columns</p>\n",
       "</div>"
      ],
      "text/plain": [
       "                  goal                                                        \\\n",
       "                 count           mean           std   min       25%      50%   \n",
       "main_category                                                                  \n",
       "Art            23957.0   36414.736261  1.181736e+06  0.01  1000.000   3000.0   \n",
       "Comics          8743.0   22910.229817  1.080410e+06  1.00  1500.000   3840.0   \n",
       "Crafts          7182.0   11710.819618  1.300150e+05  1.00   644.125   2000.0   \n",
       "Dance           3372.0    9719.983778  5.585464e+04  5.00  1500.000   3000.0   \n",
       "Design         23863.0   49204.262956  1.008307e+06  1.00  4160.000  10000.0   \n",
       "Fashion        18382.0   24751.340162  7.605822e+05  1.00  2000.000   6000.0   \n",
       "Film & Video   57659.0   72992.073201  1.463894e+06  0.15  2500.000   6500.0   \n",
       "Food           21198.0   50572.268969  1.027043e+06  1.00  3500.000  10000.0   \n",
       "Games          28004.0   55624.263327  1.143162e+06  1.00  2800.000   8706.0   \n",
       "Journalism      4069.0   95423.538285  2.322291e+06  1.00  1500.000   5000.0   \n",
       "Music          46717.0   15312.614626  3.671866e+05  1.00  1600.000   4000.0   \n",
       "Photography     9664.0   12719.892540  1.479436e+05  1.00  1500.000   4000.0   \n",
       "Publishing     34220.0   30663.582261  1.170802e+06  0.01  2000.000   5000.0   \n",
       "Technology     26116.0  116349.361663  1.747727e+06  1.00  5000.000  20000.0   \n",
       "Theater         9961.0   26503.535248  5.496955e+05  1.00  1500.000   3000.0   \n",
       "\n",
       "                                     duration             ...              \\\n",
       "                    75%          max    count       mean  ...   75%   max   \n",
       "main_category                                             ...               \n",
       "Art             7500.00  100000000.0  23957.0  32.806946  ...  35.0  91.0   \n",
       "Comics          8475.00  100000000.0   8743.0  34.601739  ...  35.0  91.0   \n",
       "Crafts          6500.00   10000000.0   7182.0  31.583821  ...  30.0  91.0   \n",
       "Dance           6400.00    2000000.0   3372.0  32.856762  ...  36.0  91.0   \n",
       "Design         30000.00  100000000.0  23863.0  34.441688  ...  40.0  91.0   \n",
       "Fashion        15000.00  100000000.0  18382.0  32.913829  ...  35.0  92.0   \n",
       "Film & Video   20000.00  100000000.0  57659.0  35.208745  ...  40.0  92.0   \n",
       "Food           25000.00  100000000.0  21198.0  33.874516  ...  35.0  91.0   \n",
       "Games          24711.25  100000000.0  28004.0  32.758285  ...  33.0  91.0   \n",
       "Journalism     15000.00  100000000.0   4069.0  34.416073  ...  39.0  91.0   \n",
       "Music           8500.00   50000000.0  46717.0  35.374403  ...  40.0  92.0   \n",
       "Photography    10000.00   10000000.0   9664.0  33.817984  ...  36.0  91.0   \n",
       "Publishing     10000.00  100000000.0  34220.0  33.911397  ...  35.0  91.0   \n",
       "Technology     50000.00  100000000.0  26116.0  35.307321  ...  40.0  91.0   \n",
       "Theater         7500.00   40000000.0   9961.0  33.440920  ...  38.0  92.0   \n",
       "\n",
       "                  year                                                         \\\n",
       "                 count         mean       std     min     25%     50%     75%   \n",
       "main_category                                                                   \n",
       "Art            23957.0  2013.608173  1.724889  2009.0  2012.0  2014.0  2015.0   \n",
       "Comics          8743.0  2013.872469  1.696781  2009.0  2013.0  2014.0  2015.0   \n",
       "Crafts          7182.0  2014.590226  1.227898  2009.0  2014.0  2015.0  2015.0   \n",
       "Dance           3372.0  2013.384045  1.736213  2009.0  2012.0  2014.0  2015.0   \n",
       "Design         23863.0  2014.312869  1.432090  2009.0  2013.0  2015.0  2015.0   \n",
       "Fashion        18382.0  2014.262376  1.428216  2009.0  2013.0  2015.0  2015.0   \n",
       "Film & Video   57659.0  2013.216879  1.802210  2009.0  2012.0  2013.0  2015.0   \n",
       "Food           21198.0  2014.211435  1.368444  2009.0  2014.0  2014.0  2015.0   \n",
       "Games          28004.0  2014.268247  1.454998  2009.0  2013.0  2015.0  2015.0   \n",
       "Journalism      4069.0  2014.202998  1.669049  2009.0  2014.0  2015.0  2015.0   \n",
       "Music          46717.0  2013.227819  1.799777  2009.0  2012.0  2013.0  2015.0   \n",
       "Photography     9664.0  2013.621378  1.731651  2009.0  2012.0  2014.0  2015.0   \n",
       "Publishing     34220.0  2013.755026  1.610021  2009.0  2013.0  2014.0  2015.0   \n",
       "Technology     26116.0  2014.646921  1.228846  2009.0  2014.0  2015.0  2016.0   \n",
       "Theater         9961.0  2013.170766  1.796039  2009.0  2012.0  2013.0  2015.0   \n",
       "\n",
       "                       \n",
       "                  max  \n",
       "main_category          \n",
       "Art            2016.0  \n",
       "Comics         2016.0  \n",
       "Crafts         2016.0  \n",
       "Dance          2016.0  \n",
       "Design         2016.0  \n",
       "Fashion        2016.0  \n",
       "Film & Video   2016.0  \n",
       "Food           2016.0  \n",
       "Games          2016.0  \n",
       "Journalism     2016.0  \n",
       "Music          2016.0  \n",
       "Photography    2016.0  \n",
       "Publishing     2016.0  \n",
       "Technology     2016.0  \n",
       "Theater        2016.0  \n",
       "\n",
       "[15 rows x 24 columns]"
      ]
     },
     "execution_count": 28,
     "metadata": {},
     "output_type": "execute_result"
    }
   ],
   "source": [
    "df[['goal','main_category','duration','year']].groupby('main_category').describe()"
   ]
  },
  {
   "cell_type": "markdown",
   "metadata": {
    "id": "Sjpgc0EsKMUF"
   },
   "source": [
    "The goal column seem to be the one with higher variability between different categories. The average duration and start year are very similar throughout the data. This lack of variability might indicate that these features are not very useful in classifying the projects into different categories "
   ]
  },
  {
   "cell_type": "code",
   "execution_count": 55,
   "metadata": {},
   "outputs": [
    {
     "data": {
      "image/png": "[encoded data removed]",
      "text/plain": [
       "<Figure size 360x360 with 1 Axes>"
      ]
     },
     "metadata": {
      "needs_background": "light"
     },
     "output_type": "display_data"
    }
   ],
   "source": [
    "sns.displot(np.log10(df.goal[df.main_category=='Film & Video']), kind=\"ecdf\")\n",
    "plt.xlabel('Goal (log10)')\n",
    "plt.title('Empirical Cumulative Density Function - Film & Video')\n",
    "plt.show()"
   ]
  },
  {
   "cell_type": "code",
   "execution_count": null,
   "metadata": {},
   "outputs": [],
   "source": [
    "sns.hist(df.goal[df.main_category=='Journalism'])"
   ]
  },
  {
   "cell_type": "code",
   "execution_count": null,
   "metadata": {
    "id": "xNod1uUNRdQ8"
   },
   "outputs": [],
   "source": [
    "def prepare_data(df:pd.DataFrame,\n",
    "                 target_col:str='main_category',\n",
    "                 feat_type:str='dense'):\n",
    "    \"\"\"\n",
    "    prepare the data for classifying\n",
    "    support dense, text or a combination of both features\n",
    "    \"\"\"\n",
    "\n",
    "    y = df[target_col]\n",
    "\n",
    "    if feat_type == 'dense':\n",
    "        feat_cols = ['goal','year','duration','quarter']\n",
    "        column_trans = ColumnTransformer(\n",
    "        [('year', OneHotEncoder(dtype='int'),['year']),\n",
    "        ('quarter', OneHotEncoder(dtype='int'),['quarter']),\n",
    "        ('goal', StandardScaler(), ['goal']),\n",
    "        ('duration', StandardScaler(), ['duration'])],\n",
    "        remainder='passthrough')\n",
    "    elif feat_type == 'text':\n",
    "        feat_cols = 'name'\n",
    "        column_trans = TfidfVectorizer(max_features=5000)\n",
    "\n",
    "    elif feat_type =='both':\n",
    "        feat_cols = ['goal','year','duration','quarter','name']\n",
    "        column_trans = ColumnTransformer(\n",
    "        [('year', OneHotEncoder(dtype='int'),['year']),\n",
    "        ('quarter', OneHotEncoder(dtype='int'),['quarter']),\n",
    "        ('goal', StandardScaler(), ['goal']),\n",
    "        ('duration', StandardScaler(), ['duration']),\n",
    "        ('name',TfidfVectorizer(max_features=5000),'name')],\n",
    "        remainder='passthrough')\n",
    "\n",
    "\n",
    "    X = df[feat_cols]\n",
    "    X_train, X_test, y_train, y_test = train_test_split(X,y,test_size=.2,\n",
    "                                                        random_state=42)\n",
    "    X_train = column_trans.fit_transform(X_train)\n",
    "    X_test = column_trans.transform(X_test)\n",
    "\n",
    "    label_enc = LabelEncoder()\n",
    "    y_train = label_enc.fit_transform(y_train)\n",
    "    y_test = label_enc.transform(y_test)\n",
    "\n",
    "    train_data = (X_train, y_train)\n",
    "    test_data = (X_test, y_test)\n",
    "\n",
    "    return train_data,test_data"
   ]
  },
  {
   "cell_type": "code",
   "execution_count": null,
   "metadata": {
    "id": "0mfvJSOKKxHK"
   },
   "outputs": [],
   "source": [
    "train_data,test_data = prepare_data(df.copy())"
   ]
  },
  {
   "cell_type": "code",
   "execution_count": null,
   "metadata": {
    "id": "mPMqR77_Oq4J"
   },
   "outputs": [],
   "source": [
    "(X_train, y_train) = train_data\n",
    "(X_test, y_test) = test_data"
   ]
  },
  {
   "cell_type": "markdown",
   "metadata": {
    "id": "yb601Ax3WQdh"
   },
   "source": [
    "Since the data is fairly imbalanced, we try the \"vanilla\" logistic regression and also a logistic regression with a loss function that penalizes each error according to its true classification frequency"
   ]
  },
  {
   "cell_type": "code",
   "execution_count": null,
   "metadata": {
    "id": "w5bfH_l0OtnZ"
   },
   "outputs": [],
   "source": [
    "clf = LogisticRegression(max_iter=1000).fit(X_train,y_train)\n",
    "clf_bal = LogisticRegression(max_iter=1000,class_weight='balanced').fit(X_train,y_train)"
   ]
  },
  {
   "cell_type": "code",
   "execution_count": null,
   "metadata": {
    "id": "42nTgPrlPueU"
   },
   "outputs": [],
   "source": [
    "y_pred = clf.predict(X_test)\n",
    "y_pred_bal = clf_bal.predict(X_test)"
   ]
  },
  {
   "cell_type": "code",
   "execution_count": null,
   "metadata": {
    "colab": {
     "base_uri": "https://localhost:8080/"
    },
    "id": "_elnbczUQdT-",
    "outputId": "e532b8ad-7531-49d5-8c24-c00cdccbe657"
   },
   "outputs": [
    {
     "name": "stdout",
     "output_type": "stream",
     "text": [
      "              precision    recall  f1-score   support\n",
      "\n",
      "           0       0.00      0.00      0.00      4757\n",
      "           1       0.00      0.00      0.00      1689\n",
      "           2       0.00      0.00      0.00      1494\n",
      "           3       0.00      0.00      0.00       679\n",
      "           4       0.00      0.00      0.00      4785\n",
      "           5       0.00      0.00      0.00      3683\n",
      "           6       0.19      0.83      0.32     11620\n",
      "           7       0.00      0.00      0.00      4266\n",
      "           8       0.15      0.07      0.10      5530\n",
      "           9       0.00      0.00      0.00       809\n",
      "          10       0.27      0.02      0.04      9368\n",
      "          11       0.00      0.00      0.00      1934\n",
      "          12       0.00      0.00      0.00      6857\n",
      "          13       0.14      0.30      0.19      5191\n",
      "          14       0.00      0.00      0.00      1960\n",
      "\n",
      "    accuracy                           0.18     64622\n",
      "   macro avg       0.05      0.08      0.04     64622\n",
      "weighted avg       0.10      0.18      0.09     64622\n",
      "\n"
     ]
    },
    {
     "name": "stderr",
     "output_type": "stream",
     "text": [
      "/usr/local/lib/python3.6/dist-packages/sklearn/metrics/_classification.py:1245: UndefinedMetricWarning: Precision and F-score are ill-defined and being set to 0.0 in labels with no predicted samples. Use `zero_division` parameter to control this behavior.\n",
      "  _warn_prf(average, modifier, msg_start, len(result))\n",
      "/usr/local/lib/python3.6/dist-packages/sklearn/metrics/_classification.py:1245: UndefinedMetricWarning: Precision and F-score are ill-defined and being set to 0.0 in labels with no predicted samples. Use `zero_division` parameter to control this behavior.\n",
      "  _warn_prf(average, modifier, msg_start, len(result))\n",
      "/usr/local/lib/python3.6/dist-packages/sklearn/metrics/_classification.py:1245: UndefinedMetricWarning: Precision and F-score are ill-defined and being set to 0.0 in labels with no predicted samples. Use `zero_division` parameter to control this behavior.\n",
      "  _warn_prf(average, modifier, msg_start, len(result))\n"
     ]
    }
   ],
   "source": [
    "print(metrics.classification_report(y_test,y_pred))"
   ]
  },
  {
   "cell_type": "code",
   "execution_count": null,
   "metadata": {
    "colab": {
     "base_uri": "https://localhost:8080/"
    },
    "id": "UHL1NlQR2tpP",
    "outputId": "c6e4ee68-5b88-4def-e9a4-1002a4a3754e"
   },
   "outputs": [
    {
     "name": "stdout",
     "output_type": "stream",
     "text": [
      "0.08207679099087468\n"
     ]
    }
   ],
   "source": [
    "print(metrics.balanced_accuracy_score(y_test,y_pred))"
   ]
  },
  {
   "cell_type": "code",
   "execution_count": null,
   "metadata": {
    "colab": {
     "base_uri": "https://localhost:8080/"
    },
    "id": "qgOnU2GP2f_f",
    "outputId": "a8dc874a-020d-4cbc-917d-3891dddf843e"
   },
   "outputs": [
    {
     "name": "stdout",
     "output_type": "stream",
     "text": [
      "0.11811940922879335\n"
     ]
    }
   ],
   "source": [
    "print(metrics.balanced_accuracy_score(y_test,y_pred_bal))"
   ]
  },
  {
   "cell_type": "code",
   "execution_count": null,
   "metadata": {
    "colab": {
     "base_uri": "https://localhost:8080/"
    },
    "id": "wwMAxqUJQoXP",
    "outputId": "ddf3a7ce-62e4-4def-e83a-834144a0946c"
   },
   "outputs": [
    {
     "name": "stdout",
     "output_type": "stream",
     "text": [
      "              precision    recall  f1-score   support\n",
      "\n",
      "           0       0.19      0.00      0.00      4757\n",
      "           1       0.04      0.01      0.02      1689\n",
      "           2       0.04      0.47      0.08      1494\n",
      "           3       0.02      0.06      0.03       679\n",
      "           4       0.11      0.02      0.03      4785\n",
      "           5       0.00      0.00      0.00      3683\n",
      "           6       0.32      0.07      0.12     11620\n",
      "           7       0.11      0.21      0.14      4266\n",
      "           8       0.14      0.06      0.09      5530\n",
      "           9       0.02      0.08      0.03       809\n",
      "          10       0.24      0.19      0.21      9368\n",
      "          11       0.03      0.02      0.02      1934\n",
      "          12       0.14      0.06      0.09      6857\n",
      "          13       0.16      0.27      0.20      5191\n",
      "          14       0.06      0.25      0.09      1960\n",
      "\n",
      "    accuracy                           0.11     64622\n",
      "   macro avg       0.11      0.12      0.08     64622\n",
      "weighted avg       0.17      0.11      0.10     64622\n",
      "\n"
     ]
    }
   ],
   "source": [
    "print(metrics.classification_report(y_test,y_pred_bal))"
   ]
  },
  {
   "cell_type": "code",
   "execution_count": null,
   "metadata": {
    "id": "2KMiBRBQa2T5"
   },
   "outputs": [],
   "source": [
    "from imblearn.under_sampling import RandomUnderSampler \n",
    "\n",
    "rus = RandomUnderSampler(random_state=42)\n",
    "X_res, y_res = rus.fit_resample(X_train, y_train)"
   ]
  },
  {
   "cell_type": "code",
   "execution_count": null,
   "metadata": {
    "id": "Aa1gZdbkteRX"
   },
   "outputs": [],
   "source": [
    "clf_und = LogisticRegression(max_iter=1000).fit(X_res, y_res)\n",
    "y_pred_und = clf_und.predict(X_test)"
   ]
  },
  {
   "cell_type": "code",
   "execution_count": null,
   "metadata": {
    "colab": {
     "base_uri": "https://localhost:8080/"
    },
    "id": "WTLPHh4H2cj3",
    "outputId": "c9b4a645-fcd6-4a85-c259-99940b8f4344"
   },
   "outputs": [
    {
     "name": "stdout",
     "output_type": "stream",
     "text": [
      "0.11538331556971786\n"
     ]
    }
   ],
   "source": [
    "print(metrics.balanced_accuracy_score(y_test,y_pred_und))"
   ]
  },
  {
   "cell_type": "code",
   "execution_count": null,
   "metadata": {
    "colab": {
     "base_uri": "https://localhost:8080/"
    },
    "id": "zm_YmhRVtht-",
    "outputId": "3f0900de-fbde-425d-860d-08ff93b45cbe"
   },
   "outputs": [
    {
     "name": "stdout",
     "output_type": "stream",
     "text": [
      "              precision    recall  f1-score   support\n",
      "\n",
      "           0       0.05      0.00      0.00      4757\n",
      "           1       0.04      0.01      0.02      1689\n",
      "           2       0.04      0.41      0.08      1494\n",
      "           3       0.02      0.05      0.02       679\n",
      "           4       0.10      0.05      0.06      4785\n",
      "           5       0.06      0.00      0.00      3683\n",
      "           6       0.33      0.07      0.12     11620\n",
      "           7       0.10      0.22      0.14      4266\n",
      "           8       0.12      0.13      0.13      5530\n",
      "           9       0.02      0.03      0.02       809\n",
      "          10       0.25      0.22      0.23      9368\n",
      "          11       0.00      0.00      0.00      1934\n",
      "          12       0.03      0.00      0.00      6857\n",
      "          13       0.15      0.32      0.21      5191\n",
      "          14       0.06      0.21      0.09      1960\n",
      "\n",
      "    accuracy                           0.12     64622\n",
      "   macro avg       0.09      0.12      0.08     64622\n",
      "weighted avg       0.15      0.12      0.10     64622\n",
      "\n"
     ]
    }
   ],
   "source": [
    "print(metrics.classification_report(y_test,y_pred_und))"
   ]
  },
  {
   "cell_type": "code",
   "execution_count": null,
   "metadata": {
    "id": "JGe1OnV2u3up"
   },
   "outputs": [],
   "source": [
    "from sklearn.experimental import enable_hist_gradient_boosting\n",
    "from sklearn.ensemble import HistGradientBoostingClassifier\n",
    "from imblearn.ensemble import BalancedBaggingClassifier\n",
    "\n",
    "clf_bb = BalancedBaggingClassifier(\n",
    "        base_estimator=HistGradientBoostingClassifier(random_state=42),\n",
    "        n_estimators=100, random_state=42, n_jobs=2\n",
    "    ).fit(X_train.A,y_train)\n",
    "\n"
   ]
  },
  {
   "cell_type": "code",
   "execution_count": null,
   "metadata": {
    "colab": {
     "base_uri": "https://localhost:8080/"
    },
    "id": "8FvEUe-zvaCv",
    "outputId": "d49108af-ed8d-4b3e-fcd5-e0d227344d55"
   },
   "outputs": [
    {
     "name": "stdout",
     "output_type": "stream",
     "text": [
      "              precision    recall  f1-score   support\n",
      "\n",
      "           0       0.14      0.03      0.05      4757\n",
      "           1       0.06      0.17      0.09      1689\n",
      "           2       0.06      0.41      0.11      1494\n",
      "           3       0.02      0.19      0.04       679\n",
      "           4       0.16      0.16      0.16      4785\n",
      "           5       0.09      0.03      0.05      3683\n",
      "           6       0.39      0.15      0.22     11620\n",
      "           7       0.16      0.14      0.15      4266\n",
      "           8       0.17      0.07      0.10      5530\n",
      "           9       0.03      0.12      0.05       809\n",
      "          10       0.28      0.14      0.19      9368\n",
      "          11       0.06      0.03      0.04      1934\n",
      "          12       0.16      0.06      0.09      6857\n",
      "          13       0.24      0.41      0.30      5191\n",
      "          14       0.07      0.20      0.11      1960\n",
      "\n",
      "    accuracy                           0.14     64622\n",
      "   macro avg       0.14      0.16      0.12     64622\n",
      "weighted avg       0.21      0.14      0.15     64622\n",
      "\n"
     ]
    }
   ],
   "source": [
    "y_pred_bb = clf_bb.predict(X_test.A)\n",
    "print(metrics.classification_report(y_test,y_pred_bb))"
   ]
  },
  {
   "cell_type": "code",
   "execution_count": null,
   "metadata": {
    "colab": {
     "base_uri": "https://localhost:8080/"
    },
    "id": "_oj3MI5mwNJh",
    "outputId": "8d27c8e4-b289-44cd-e843-38e0bc3ce98c"
   },
   "outputs": [
    {
     "name": "stdout",
     "output_type": "stream",
     "text": [
      "0.1557064413899569\n"
     ]
    }
   ],
   "source": [
    "print(metrics.balanced_accuracy_score(y_test,y_pred_bb))"
   ]
  },
  {
   "cell_type": "code",
   "execution_count": null,
   "metadata": {
    "colab": {
     "base_uri": "https://localhost:8080/"
    },
    "id": "rNYuguV5B1zN",
    "outputId": "62795af3-e5a4-44d6-d690-3b924e1e467d"
   },
   "outputs": [
    {
     "data": {
      "text/plain": [
       "(64622, 14)"
      ]
     },
     "execution_count": 49,
     "metadata": {
      "tags": []
     },
     "output_type": "execute_result"
    }
   ],
   "source": [
    "X_test.shape"
   ]
  },
  {
   "cell_type": "code",
   "execution_count": null,
   "metadata": {
    "id": "zQpYo4KH2Zwk"
   },
   "outputs": [],
   "source": [
    "from keras.models import Sequential\n",
    "from keras.layers import Activation, Dense, Dropout, BatchNormalization\n",
    "from keras.utils import to_categorical\n",
    "\n",
    "def NN_model(n_features:int, n_labels:int):\n",
    "    \"\"\"\n",
    "    define a feedforward NN using keras\n",
    "    \"\"\"\n",
    "\n",
    "    model = Sequential()\n",
    "    model.add(Dense(50, input_shape=(n_features,),\n",
    "              kernel_initializer='glorot_normal'))\n",
    "    model.add(BatchNormalization())\n",
    "    model.add(Activation('relu'))\n",
    "    model.add(Dropout(0.25))\n",
    "    model.add(Dense(25))\n",
    "    model.add(BatchNormalization())\n",
    "    model.add(Activation('relu'))\n",
    "    model.add(Dropout(0.1))\n",
    "    model.add(Dense(n_labels, activation='softmax'))\n",
    "\n",
    "    model.compile(loss='categorical_crossentropy',\n",
    "                  optimizer='adam',\n",
    "                  metrics=['accuracy'])\n",
    "\n",
    "    return model\n",
    "    "
   ]
  },
  {
   "cell_type": "code",
   "execution_count": null,
   "metadata": {
    "id": "Ydq1tjvMCfmU"
   },
   "outputs": [],
   "source": [
    "def fit_predict_imbalanced_model(\n",
    "    X_train:np.array, y_train:np.array, X_test:np.array):\n",
    "    \"\"\"\n",
    "    train a NN defined by keras, return its predictions\n",
    "    \"\"\"\n",
    "    model = NN_model(X_train.shape[1],15)\n",
    "    y_train = to_categorical(y_train)\n",
    "    model.fit(X_train, y_train, epochs=50, verbose=1, batch_size=1000)\n",
    "    y_pred = model.predict(X_test, batch_size=1000)\n",
    "    return np.argmax(y_pred,axis=1)\n",
    "\n"
   ]
  },
  {
   "cell_type": "code",
   "execution_count": null,
   "metadata": {
    "colab": {
     "base_uri": "https://localhost:8080/"
    },
    "collapsed": true,
    "id": "u83V2y1SDD6b",
    "jupyter": {
     "outputs_hidden": true
    },
    "outputId": "69343323-615a-4e4f-c814-254e02991462"
   },
   "outputs": [
    {
     "name": "stdout",
     "output_type": "stream",
     "text": [
      "Epoch 1/50\n",
      "259/259 [==============================] - 4s 6ms/step - loss: 2.6701 - accuracy: 0.1316\n",
      "Epoch 2/50\n",
      "259/259 [==============================] - 2s 6ms/step - loss: 2.4385 - accuracy: 0.1726\n",
      "Epoch 3/50\n",
      "259/259 [==============================] - 2s 6ms/step - loss: 2.4202 - accuracy: 0.1769\n",
      "Epoch 4/50\n",
      "259/259 [==============================] - 2s 6ms/step - loss: 2.4144 - accuracy: 0.1792\n",
      "Epoch 5/50\n",
      "259/259 [==============================] - 2s 6ms/step - loss: 2.4079 - accuracy: 0.1812\n",
      "Epoch 6/50\n",
      "259/259 [==============================] - 2s 6ms/step - loss: 2.4019 - accuracy: 0.1825\n",
      "Epoch 7/50\n",
      "259/259 [==============================] - 2s 6ms/step - loss: 2.3973 - accuracy: 0.1850\n",
      "Epoch 8/50\n",
      "259/259 [==============================] - 2s 6ms/step - loss: 2.3939 - accuracy: 0.1869\n",
      "Epoch 9/50\n",
      "259/259 [==============================] - 2s 6ms/step - loss: 2.3870 - accuracy: 0.1903\n",
      "Epoch 10/50\n",
      "259/259 [==============================] - 2s 6ms/step - loss: 2.3757 - accuracy: 0.1936\n",
      "Epoch 11/50\n",
      "259/259 [==============================] - 2s 6ms/step - loss: 2.3708 - accuracy: 0.1965\n",
      "Epoch 12/50\n",
      "259/259 [==============================] - 2s 6ms/step - loss: 2.3683 - accuracy: 0.1978\n",
      "Epoch 13/50\n",
      "259/259 [==============================] - 2s 6ms/step - loss: 2.3673 - accuracy: 0.1981\n",
      "Epoch 14/50\n",
      "259/259 [==============================] - 2s 6ms/step - loss: 2.3604 - accuracy: 0.2002\n",
      "Epoch 15/50\n",
      "259/259 [==============================] - 2s 6ms/step - loss: 2.3607 - accuracy: 0.2005\n",
      "Epoch 16/50\n",
      "259/259 [==============================] - 2s 6ms/step - loss: 2.3625 - accuracy: 0.2011\n",
      "Epoch 17/50\n",
      "259/259 [==============================] - 2s 6ms/step - loss: 2.3568 - accuracy: 0.2047\n",
      "Epoch 18/50\n",
      "259/259 [==============================] - 2s 6ms/step - loss: 2.3588 - accuracy: 0.2026\n",
      "Epoch 19/50\n",
      "259/259 [==============================] - 2s 6ms/step - loss: 2.3554 - accuracy: 0.2031\n",
      "Epoch 20/50\n",
      "259/259 [==============================] - 2s 6ms/step - loss: 2.3573 - accuracy: 0.2022\n",
      "Epoch 21/50\n",
      "259/259 [==============================] - 2s 6ms/step - loss: 2.3548 - accuracy: 0.2039\n",
      "Epoch 22/50\n",
      "259/259 [==============================] - 2s 6ms/step - loss: 2.3551 - accuracy: 0.2039\n",
      "Epoch 23/50\n",
      "259/259 [==============================] - 2s 6ms/step - loss: 2.3540 - accuracy: 0.2023\n",
      "Epoch 24/50\n",
      "259/259 [==============================] - 2s 6ms/step - loss: 2.3523 - accuracy: 0.2042\n",
      "Epoch 25/50\n",
      "259/259 [==============================] - 2s 6ms/step - loss: 2.3548 - accuracy: 0.2029\n",
      "Epoch 26/50\n",
      "259/259 [==============================] - 2s 6ms/step - loss: 2.3534 - accuracy: 0.2029\n",
      "Epoch 27/50\n",
      "259/259 [==============================] - 2s 6ms/step - loss: 2.3530 - accuracy: 0.2040\n",
      "Epoch 28/50\n",
      "259/259 [==============================] - 2s 6ms/step - loss: 2.3547 - accuracy: 0.2028\n",
      "Epoch 29/50\n",
      "259/259 [==============================] - 2s 6ms/step - loss: 2.3527 - accuracy: 0.2038\n",
      "Epoch 30/50\n",
      "259/259 [==============================] - 2s 6ms/step - loss: 2.3531 - accuracy: 0.2040\n",
      "Epoch 31/50\n",
      "259/259 [==============================] - 2s 6ms/step - loss: 2.3533 - accuracy: 0.2050\n",
      "Epoch 32/50\n",
      "259/259 [==============================] - 2s 6ms/step - loss: 2.3515 - accuracy: 0.2042\n",
      "Epoch 33/50\n",
      "259/259 [==============================] - 2s 6ms/step - loss: 2.3526 - accuracy: 0.2031\n",
      "Epoch 34/50\n",
      "259/259 [==============================] - 2s 6ms/step - loss: 2.3521 - accuracy: 0.2040\n",
      "Epoch 35/50\n",
      "259/259 [==============================] - 2s 6ms/step - loss: 2.3506 - accuracy: 0.2052\n",
      "Epoch 36/50\n",
      "259/259 [==============================] - 2s 6ms/step - loss: 2.3504 - accuracy: 0.2045\n",
      "Epoch 37/50\n",
      "259/259 [==============================] - 2s 6ms/step - loss: 2.3510 - accuracy: 0.2052\n",
      "Epoch 38/50\n",
      "259/259 [==============================] - 2s 6ms/step - loss: 2.3502 - accuracy: 0.2042\n",
      "Epoch 39/50\n",
      "259/259 [==============================] - 2s 6ms/step - loss: 2.3515 - accuracy: 0.2031\n",
      "Epoch 40/50\n",
      "259/259 [==============================] - 2s 6ms/step - loss: 2.3525 - accuracy: 0.2034\n",
      "Epoch 41/50\n",
      "259/259 [==============================] - 2s 6ms/step - loss: 2.3475 - accuracy: 0.2042\n",
      "Epoch 42/50\n",
      "259/259 [==============================] - 2s 6ms/step - loss: 2.3494 - accuracy: 0.2050\n",
      "Epoch 43/50\n",
      "259/259 [==============================] - 2s 6ms/step - loss: 2.3470 - accuracy: 0.2054\n",
      "Epoch 44/50\n",
      "259/259 [==============================] - 2s 6ms/step - loss: 2.3476 - accuracy: 0.2052\n",
      "Epoch 45/50\n",
      "259/259 [==============================] - 2s 6ms/step - loss: 2.3503 - accuracy: 0.2048\n",
      "Epoch 46/50\n",
      "259/259 [==============================] - 2s 6ms/step - loss: 2.3480 - accuracy: 0.2051\n",
      "Epoch 47/50\n",
      "259/259 [==============================] - 2s 6ms/step - loss: 2.3482 - accuracy: 0.2050\n",
      "Epoch 48/50\n",
      "259/259 [==============================] - 2s 6ms/step - loss: 2.3473 - accuracy: 0.2053\n",
      "Epoch 49/50\n",
      "259/259 [==============================] - 2s 6ms/step - loss: 2.3486 - accuracy: 0.2036\n",
      "Epoch 50/50\n",
      "259/259 [==============================] - 2s 6ms/step - loss: 2.3486 - accuracy: 0.2044\n"
     ]
    }
   ],
   "source": [
    "y_nn = fit_predict_imbalanced_model(X_train, y_train, X_test)"
   ]
  },
  {
   "cell_type": "code",
   "execution_count": null,
   "metadata": {
    "colab": {
     "base_uri": "https://localhost:8080/"
    },
    "id": "fZ7mxp7CEBAK",
    "outputId": "64519a16-2fa0-4f82-dfdc-f3898ff32423"
   },
   "outputs": [
    {
     "name": "stdout",
     "output_type": "stream",
     "text": [
      "0.09488402574162681\n"
     ]
    }
   ],
   "source": [
    "print(metrics.balanced_accuracy_score(y_test,y_nn))"
   ]
  },
  {
   "cell_type": "code",
   "execution_count": null,
   "metadata": {
    "colab": {
     "base_uri": "https://localhost:8080/"
    },
    "id": "gW3MWBh1HUU3",
    "outputId": "92f55caf-bb99-4194-f33a-d7c02aa7a253"
   },
   "outputs": [
    {
     "name": "stdout",
     "output_type": "stream",
     "text": [
      "              precision    recall  f1-score   support\n",
      "\n",
      "           0       0.00      0.00      0.00      4757\n",
      "           1       0.00      0.00      0.00      1689\n",
      "           2       0.00      0.00      0.00      1494\n",
      "           3       0.00      0.00      0.00       679\n",
      "           4       0.00      0.00      0.00      4785\n",
      "           5       0.00      0.00      0.00      3683\n",
      "           6       0.23      0.68      0.34     11620\n",
      "           7       0.00      0.00      0.00      4266\n",
      "           8       0.00      0.00      0.00      5530\n",
      "           9       0.00      0.00      0.00       809\n",
      "          10       0.00      0.00      0.00      9368\n",
      "          11       0.00      0.00      0.00      1934\n",
      "          12       0.00      0.00      0.00      6857\n",
      "          13       0.13      0.74      0.22      5191\n",
      "          14       0.00      0.00      0.00      1960\n",
      "\n",
      "    accuracy                           0.18     64622\n",
      "   macro avg       0.02      0.09      0.04     64622\n",
      "weighted avg       0.05      0.18      0.08     64622\n",
      "\n"
     ]
    },
    {
     "name": "stderr",
     "output_type": "stream",
     "text": [
      "/usr/local/lib/python3.6/dist-packages/sklearn/metrics/_classification.py:1245: UndefinedMetricWarning: Precision and F-score are ill-defined and being set to 0.0 in labels with no predicted samples. Use `zero_division` parameter to control this behavior.\n",
      "  _warn_prf(average, modifier, msg_start, len(result))\n",
      "/usr/local/lib/python3.6/dist-packages/sklearn/metrics/_classification.py:1245: UndefinedMetricWarning: Precision and F-score are ill-defined and being set to 0.0 in labels with no predicted samples. Use `zero_division` parameter to control this behavior.\n",
      "  _warn_prf(average, modifier, msg_start, len(result))\n",
      "/usr/local/lib/python3.6/dist-packages/sklearn/metrics/_classification.py:1245: UndefinedMetricWarning: Precision and F-score are ill-defined and being set to 0.0 in labels with no predicted samples. Use `zero_division` parameter to control this behavior.\n",
      "  _warn_prf(average, modifier, msg_start, len(result))\n"
     ]
    }
   ],
   "source": [
    "print(metrics.classification_report(y_test,y_nn))"
   ]
  },
  {
   "cell_type": "markdown",
   "metadata": {
    "id": "PV-scxlNRU-O"
   },
   "source": [
    "We've tried different classifiers (logistic regression, tree-based classifier and NN) and an undersampling technique. The results were pretty underwhelming for all cases, which confirms our hypothesis that these features are not really informative for classifying the projects"
   ]
  },
  {
   "cell_type": "markdown",
   "metadata": {
    "id": "3EQ0C6PNGpW-"
   },
   "source": [
    "### Text features"
   ]
  },
  {
   "cell_type": "markdown",
   "metadata": {
    "id": "UIodWwG1R9eR"
   },
   "source": [
    "Now, let's try to use the name of each project as features. We do this by using a TF-IDF vectorizer. One might also use word embeddings instead of vectorizer, but I decided to use vectorizers as our texts are pretty short and fairly specific."
   ]
  },
  {
   "cell_type": "code",
   "execution_count": null,
   "metadata": {
    "id": "x_rYkODLHV-n"
   },
   "outputs": [],
   "source": [
    "train_data,test_data = prepare_data(df.copy(),feat_type='text')\n",
    "(X_train, y_train) = train_data\n",
    "(X_test, y_test) = test_data"
   ]
  },
  {
   "cell_type": "code",
   "execution_count": null,
   "metadata": {
    "id": "ReDrixBSJY9j"
   },
   "outputs": [],
   "source": [
    "clf = LogisticRegression(max_iter=1000).fit(X_train,y_train)\n",
    "clf_bal = LogisticRegression(max_iter=1000,class_weight='balanced').fit(X_train,y_train)"
   ]
  },
  {
   "cell_type": "code",
   "execution_count": null,
   "metadata": {
    "id": "tSDpQc5NKgKc"
   },
   "outputs": [],
   "source": [
    "y_pred = clf.predict(X_test)\n",
    "y_pred_bal = clf_bal.predict(X_test)"
   ]
  },
  {
   "cell_type": "code",
   "execution_count": null,
   "metadata": {
    "colab": {
     "base_uri": "https://localhost:8080/"
    },
    "id": "u0SVACAcNqvQ",
    "outputId": "37323a0c-6cf2-4117-9880-37c1c63cbe8e"
   },
   "outputs": [
    {
     "name": "stdout",
     "output_type": "stream",
     "text": [
      "0.4887152232362485\n"
     ]
    }
   ],
   "source": [
    "print(metrics.balanced_accuracy_score(y_test,y_pred))"
   ]
  },
  {
   "cell_type": "code",
   "execution_count": null,
   "metadata": {
    "colab": {
     "base_uri": "https://localhost:8080/"
    },
    "id": "FkzKYtXvNtep",
    "outputId": "911a789b-b6f8-49bd-b0b7-670c7e8ec65b"
   },
   "outputs": [
    {
     "name": "stdout",
     "output_type": "stream",
     "text": [
      "0.5312612956801293\n"
     ]
    }
   ],
   "source": [
    "print(metrics.balanced_accuracy_score(y_test,y_pred_bal))"
   ]
  },
  {
   "cell_type": "code",
   "execution_count": null,
   "metadata": {
    "colab": {
     "base_uri": "https://localhost:8080/"
    },
    "id": "ikjIlJkkNx8Q",
    "outputId": "e1bfee9e-31fd-42b3-ef46-0f78d31d770e"
   },
   "outputs": [
    {
     "name": "stdout",
     "output_type": "stream",
     "text": [
      "              precision    recall  f1-score   support\n",
      "\n",
      "           0       0.55      0.44      0.49      4792\n",
      "           1       0.81      0.43      0.56      1641\n",
      "           2       0.55      0.28      0.37      1431\n",
      "           3       0.77      0.38      0.51       657\n",
      "           4       0.52      0.48      0.50      4697\n",
      "           5       0.71      0.60      0.65      3715\n",
      "           6       0.47      0.75      0.57     11588\n",
      "           7       0.74      0.72      0.73      4256\n",
      "           8       0.65      0.61      0.63      5586\n",
      "           9       0.39      0.06      0.10       805\n",
      "          10       0.77      0.76      0.77      9377\n",
      "          11       0.63      0.37      0.46      1870\n",
      "          12       0.54      0.51      0.52      6902\n",
      "          13       0.57      0.54      0.55      5245\n",
      "          14       0.66      0.40      0.50      2060\n",
      "\n",
      "    accuracy                           0.59     64622\n",
      "   macro avg       0.62      0.49      0.53     64622\n",
      "weighted avg       0.61      0.59      0.59     64622\n",
      "\n"
     ]
    }
   ],
   "source": [
    "print(metrics.classification_report(y_test,y_pred))"
   ]
  },
  {
   "cell_type": "code",
   "execution_count": null,
   "metadata": {
    "colab": {
     "base_uri": "https://localhost:8080/"
    },
    "id": "PIaFw6_HOFk6",
    "outputId": "c9996304-b797-4007-bb2c-582011ee09e5"
   },
   "outputs": [
    {
     "name": "stdout",
     "output_type": "stream",
     "text": [
      "              precision    recall  f1-score   support\n",
      "\n",
      "           0       0.56      0.40      0.47      4792\n",
      "           1       0.35      0.57      0.43      1641\n",
      "           2       0.25      0.47      0.33      1431\n",
      "           3       0.17      0.54      0.26       657\n",
      "           4       0.52      0.45      0.48      4697\n",
      "           5       0.67      0.61      0.64      3715\n",
      "           6       0.59      0.50      0.54     11588\n",
      "           7       0.69      0.74      0.72      4256\n",
      "           8       0.65      0.60      0.62      5586\n",
      "           9       0.09      0.40      0.15       805\n",
      "          10       0.88      0.69      0.78      9377\n",
      "          11       0.30      0.52      0.38      1870\n",
      "          12       0.59      0.40      0.48      6902\n",
      "          13       0.58      0.52      0.55      5245\n",
      "          14       0.35      0.55      0.43      2060\n",
      "\n",
      "    accuracy                           0.54     64622\n",
      "   macro avg       0.48      0.53      0.48     64622\n",
      "weighted avg       0.60      0.54      0.56     64622\n",
      "\n"
     ]
    }
   ],
   "source": [
    "print(metrics.classification_report(y_test,y_pred_bal))"
   ]
  },
  {
   "cell_type": "markdown",
   "metadata": {
    "id": "1V5kzsPXQmE7"
   },
   "source": [
    "The results obtained using the names of the projects as features are significantly better than the ones we got by just using the \"dense\" features. Let's see what we get by combining both of them"
   ]
  },
  {
   "cell_type": "markdown",
   "metadata": {
    "id": "KrJe9l8UUIzT"
   },
   "source": [
    "The results of the NN are similar to the ones obtained by the logistic regression. So, we would choose the logistic regression as it's cheaper to train/predict and more interpretable"
   ]
  },
  {
   "cell_type": "markdown",
   "metadata": {
    "id": "zr9V5pjfUY2R"
   },
   "source": [
    "There is a lot of room for improvement, some suggestions to improve the performance are:\n",
    "\n",
    "- use a gridsearch to optimize the hyperparameters of the models (regularization for the logistic regression, architecture, learning rate, dropout rate, etc for the NN)\n",
    "- cross-validate the results using different data splits\n",
    "- try to use a dimensionality reduction technique (such as LSA) on the features obtained by the TF-IDF and then combine these new features with the \"dense\" features\n",
    "- use the output probabilities of the text-only model as features to combine with the \"dense\" features, then train a new model using these features"
   ]
  },
  {
   "cell_type": "code",
   "execution_count": null,
   "metadata": {
    "id": "X6KpfCclUISW"
   },
   "outputs": [],
   "source": []
  },
  {
   "cell_type": "code",
   "execution_count": null,
   "metadata": {
    "id": "bd_Eent0TfAr"
   },
   "outputs": [],
   "source": []
  }
 ],
 "metadata": {
  "accelerator": "GPU",
  "colab": {
   "collapsed_sections": [],
   "name": "Blog post.ipynb",
   "provenance": [],
   "toc_visible": true
  },
  "kernelspec": {
   "display_name": "Python [conda env:multi]",
   "language": "python",
   "name": "conda-env-multi-py"
  },
  "language_info": {
   "codemirror_mode": {
    "name": "ipython",
    "version": 3
   },
   "file_extension": ".py",
   "mimetype": "text/x-python",
   "name": "python",
   "nbconvert_exporter": "python",
   "pygments_lexer": "ipython3",
   "version": "3.7.7"
  }
 },
 "nbformat": 4,
 "nbformat_minor": 4
}
